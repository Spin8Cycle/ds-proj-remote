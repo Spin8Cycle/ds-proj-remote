{
 "cells": [
  {
   "cell_type": "markdown",
   "metadata": {},
   "source": [
    "# ML Overview"
   ]
  },
  {
   "cell_type": "markdown",
   "metadata": {},
   "source": [
    "# A. Example Applications:\n",
    "\n",
    "* Analyzing images of products on a production line to automatically classify them:\n",
    "    * Image classification, typically performed using convolutional neural networks (CNNs) or sometimes transformers.\n",
    "\n",
    "* Detecting tumors in brain scans:\n",
    "    * This is semantic image segmentation, where each pixel in the image is classified (to determine the exact location and shape of tumors), typically using CNNs or transformers.\n",
    "\n",
    "* Automatically classifying news articles:\n",
    "    * NLP --> text classification, w/c can be tackled using recurrent neutral networks (RNNs) and CNNs, but transformers work even better.\n",
    "\n",
    "* Automatically flagging offensive comments on discussion forums:\n",
    "    * This is also text classification, using the same NLP tools.\n",
    "\n",
    "* Summarizing long documents automatically:\n",
    "    * This is a branch of NLP called text summarization, again using the same tools.\n",
    "\n",
    "* Creating a chatbot or a personal assistant:\n",
    "    * This involves many NLP components, including natural language understanding (NLU) and question-answering modules.\n",
    "\n",
    "* Forecasting your company’s revenue next year, based on many performance metrics:\n",
    "    * This is a regression task (i.e., predicting values) that may be tackled using any regression model, such as a linear regression or polynomial regression model, a regression support vector machine, a regression random forest, or an\n",
    "artificial neural network.\n",
    "\n",
    "* Making your app react to voice commands:\n",
    "    * This is speech recognition, which requires processing audio samples: since they are long and complex sequences, they are typically processed using RNNs, CNNs, or transformers.\n",
    "\n",
    "* Detecting credit card fraud:\n",
    "    * This is anomaly detection, which can be tackled using isolation forests, Gaussian mixture models or autoencoders.\n",
    "\n",
    "* Segmenting clients based on their purchases so that you can design a different marketing strategy for each segment:\n",
    "    * This is clustering, which can be achieved using k-means, DBSCAN, and more\n",
    "\n",
    "* Representing a complex, high-dimensional dataset in a clear and insightful diagram:\n",
    "    * This is data visualization, often involving dimensionality reduction techniques\n",
    "\n",
    "* Recommending a product that a client may be interested in, based on past purchases:\n",
    "    * Recommender System\n",
    "    * One approach is to feed past purchases (and other information about the client) to an artificial neural network, and get it to output the most likely next purchase. This neural net would typically be trained on past sequences of purchases across all clients. \n",
    "\n",
    "* Building an intelligent bot for a game\n",
    "    * This is often tackled using reinforcement learning"
   ]
  },
  {
   "cell_type": "code",
   "execution_count": null,
   "metadata": {},
   "outputs": [],
   "source": []
  }
 ],
 "metadata": {
  "language_info": {
   "name": "python"
  },
  "orig_nbformat": 4
 },
 "nbformat": 4,
 "nbformat_minor": 2
}
