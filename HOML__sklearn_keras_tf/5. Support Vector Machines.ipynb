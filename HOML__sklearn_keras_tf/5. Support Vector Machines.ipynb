{
 "cells": [
  {
   "cell_type": "markdown",
   "metadata": {},
   "source": [
    "# Support Vector Machines\n",
    "\n",
    "* A support vector machine (SVM) is a powerful and versatile machine learning model, capable of performing linear or nonlinear classification, regression, and even novelty detection.\n",
    "\n",
    "* SVM is great for small to medium-sized nonlinear datasets (i.e., hundreds to thousands of instances), especially for classification tasks. However, they don't scale very well to very large datasets."
   ]
  },
  {
   "cell_type": "markdown",
   "metadata": {},
   "source": [
    "# A. Linear SVM Classification:\n",
    "\n",
    "* Think of an SVM classifier as fitting the widest possible street between classes. (*Large Margin Classification*).\n",
    "* SVMs are sensitive to the feature scales.\n",
    "\n",
    "\n",
    "### A.1. Soft Margin Classification:\n",
    "\n",
    "* Hard Margin Classification:\n",
    "    * impose that all instances must be off the street and on the correct side.\n",
    "    * 2 main issues w/ hard margin classification:\n",
    "        * It only works if the data is linearly separable.\n",
    "        * It is sensitive to outliers.\n",
    "\n",
    "* Soft Margin Classification:\n",
    "    * The objective is to find a good balance between keeping the street as large as possible and limiting the *margin violations* (i.e., instances that end up in the middle of the street or even on the wrong side).\n"
   ]
  },
  {
   "cell_type": "code",
   "execution_count": null,
   "metadata": {},
   "outputs": [],
   "source": []
  },
  {
   "cell_type": "code",
   "execution_count": null,
   "metadata": {},
   "outputs": [],
   "source": []
  }
 ],
 "metadata": {
  "language_info": {
   "name": "python"
  },
  "orig_nbformat": 4
 },
 "nbformat": 4,
 "nbformat_minor": 2
}
