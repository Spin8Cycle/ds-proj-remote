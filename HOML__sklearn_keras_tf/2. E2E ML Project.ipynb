{
 "cells": [
  {
   "cell_type": "markdown",
   "metadata": {},
   "source": [
    "# E2E ML Project Example:\n",
    "\n",
    "* Main Steps:\n",
    "1. Look at the big picture.\n",
    "2. Get the data.\n",
    "3. Explore and visualize the data to gain insights.\n",
    "4. Prepare the data for machine learning algorithms.\n",
    "5. Select a model and train it.\n",
    "6. Fine-tune your model.\n",
    "7. Present your solution.\n",
    "8. Launch, monitor, and maintain your system."
   ]
  },
  {
   "cell_type": "markdown",
   "metadata": {},
   "source": [
    "# A. Working w/ Real Data:\n",
    "\n",
    "* When you are learning about machine learning, it is best to experiment with real-world data, not artificial datasets.\n",
    "\n",
    "* Popular Open Data Repositories:\n",
    "    * [OpenML.org](https://openml.org/)\n",
    "    * [Kaggle.com](https://www.kaggle.com/datasets)\n",
    "    * [PaperWithCode.com](https://paperswithcode.com/datasets)\n",
    "    * [UC Irvine Machine Learning Repository](https://archive.ics.uci.edu/)\n",
    "    * [Amazon’s AWS datasets](https://registry.opendata.aws/)\n",
    "    * [TensorFlow datasets](https://www.tensorflow.org/datasets)\n",
    "\n",
    "* Meta Portals (List Open Data Repositories):\n",
    "    * [DataPortals.org](https://dataportals.org/)\n",
    "    * [OpenDataMonitor.eu](https://opendatamonitor.eu/frontend/web/index.php?r=dashboard%2Findex)\n",
    "    * [Wikipedia’s list of machine learning datasets](https://en.wikipedia.org/wiki/List_of_datasets_for_machine-learning_research)\n",
    "    * [Quora.com](https://www.quora.com/Where-can-I-find-large-datasets-open-to-the-public)\n",
    "    * [The datasets subreddit](https://www.reddit.com/r/datasets/)"
   ]
  },
  {
   "cell_type": "markdown",
   "metadata": {},
   "source": [
    "# B. Look at the Big Picture:\n",
    "\n",
    "* [Machine Learning Project Checklist](./ML%20Project%20Checklist.ipynb)"
   ]
  },
  {
   "cell_type": "code",
   "execution_count": null,
   "metadata": {},
   "outputs": [],
   "source": []
  }
 ],
 "metadata": {
  "language_info": {
   "name": "python"
  },
  "orig_nbformat": 4
 },
 "nbformat": 4,
 "nbformat_minor": 2
}
