{
 "cells": [
  {
   "cell_type": "markdown",
   "metadata": {},
   "source": [
    "# E2E ML Project Example:\n",
    "\n",
    "* Main Steps:\n",
    "1. Look at the big picture.\n",
    "2. Get the data.\n",
    "3. Explore and visualize the data to gain insights.\n",
    "4. Prepare the data for machine learning algorithms.\n",
    "5. Select a model and train it.\n",
    "6. Fine-tune your model.\n",
    "7. Present your solution.\n",
    "8. Launch, monitor, and maintain your system."
   ]
  },
  {
   "cell_type": "markdown",
   "metadata": {},
   "source": [
    "# A. Working w/ Real Data:\n",
    "\n",
    "* When you are learning about machine learning, it is best to experiment with real-world data, not artificial datasets.\n",
    "\n",
    "* Popular Open Data Repositories:\n",
    "    * [OpenML.org](https://openml.org/)\n",
    "    * [Kaggle.com](https://www.kaggle.com/datasets)\n",
    "    * [PaperWithCode.com](https://paperswithcode.com/datasets)\n",
    "    * [UC Irvine Machine Learning Repository](https://archive.ics.uci.edu/)\n",
    "    * [Amazon’s AWS datasets](https://registry.opendata.aws/)\n",
    "    * [TensorFlow datasets](https://www.tensorflow.org/datasets)\n",
    "\n",
    "* Meta Portals (List Open Data Repositories):\n",
    "    * [DataPortals.org](https://dataportals.org/)\n",
    "    * [OpenDataMonitor.eu](https://opendatamonitor.eu/frontend/web/index.php?r=dashboard%2Findex)\n",
    "    * [Wikipedia’s list of machine learning datasets](https://en.wikipedia.org/wiki/List_of_datasets_for_machine-learning_research)\n",
    "    * [Quora.com](https://www.quora.com/Where-can-I-find-large-datasets-open-to-the-public)\n",
    "    * [The datasets subreddit](https://www.reddit.com/r/datasets/)"
   ]
  },
  {
   "cell_type": "markdown",
   "metadata": {},
   "source": [
    "# B. Look at the Big Picture:\n",
    "\n",
    "* [Machine Learning Project Checklist](./ML%20Project%20Checklist.ipynb)"
   ]
  },
  {
   "cell_type": "markdown",
   "metadata": {},
   "source": [
    "### B.1. Frame the Problem\n",
    "\n",
    "* What is the business objective?\n",
    "    * How does the company expect to use and benefit from this model?\n",
    "    * Knowing the objective is important because it will determine how you frame the problem, which algorithms you will select, which performance measure you will use to evaluate your model, and how much effort you will spend tweaking it.\n",
    "\n",
    "* What is the current solution looks like (if any)?\n",
    "    * The current situation will often give you a reference for performance, as well as insights on how to solve the problem.\n",
    "\n",
    "* Determine what kind of training supervision the model will need:\n",
    "    * Supervised Learning, since the dataset has labels. (District median housing)\n",
    "    * Multiple regression problem, since the system will use multiple features to make a prediction (the district’s population, the median income, etc.)\n",
    "    * Univariate regression problem, since we are only trying to predict a single value for each district.\n",
    "    * There is no continuous flow of data coming into the system, there is no particular need to adjust to changing data rapidly, and the data is small enough to fit in memory, so plain batch learning should do just fine."
   ]
  },
  {
   "cell_type": "markdown",
   "metadata": {},
   "source": [
    "### B.2 Select a Performance Measure:\n",
    "\n",
    "* A typical performance measure for regression problems is the root mean square error (RMSE).\n",
    "* It gives an idea of how much error the system typically makes in its predictions, with a higher weight given to large errors.\n",
    "* $RMSE(X,h)\\ =\\ \\sqrt{\\frac{1}{m_i}\\sum_{i=1}^{m}(h(x^i)-y^i)^2}$, where:\n",
    "    * $m$ = number of instances the dataset you are measuring the RMSE on.\n",
    "    * $x^i$ = vector of all the feature values (excluding the label) of the $i^th$ instance in the dataset.\n",
    "    * $y^i$ = label of $x^i$, the desired output value for that instance.\n",
    "    * $X$ = is a matrix containing all the feature values (excluding labels) of all instances in the dataset. There is one row per instance, and the $i^th$ row is equal to the transpose of $x^i \\rightarrow (x^i)^T$\n",
    "    * $h$ = Prediction function, also called a **hypothesis**.\n",
    "        * When your system is given an instance’s feature vector $x^i$, it outputs a predicted value $\\hat{y}^i\\ =\\ h(x^i)$.\n",
    "        * Prediction error is then equal to $\\hat{y}^i-$y^i$.\n",
    "    * $RMSE(X,h)$ = the cost function measured on the set of examples using your hypothesis $h$."
   ]
  },
  {
   "cell_type": "markdown",
   "metadata": {},
   "source": []
  },
  {
   "cell_type": "code",
   "execution_count": null,
   "metadata": {},
   "outputs": [],
   "source": []
  }
 ],
 "metadata": {
  "language_info": {
   "name": "python"
  },
  "orig_nbformat": 4
 },
 "nbformat": 4,
 "nbformat_minor": 2
}
