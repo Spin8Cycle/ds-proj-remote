{
 "cells": [
  {
   "cell_type": "markdown",
   "metadata": {},
   "source": [
    "# E2E ML Project Example:\n",
    "\n",
    "* Main Steps:\n",
    "1. Look at the big picture.\n",
    "2. Get the data.\n",
    "3. Explore and visualize the data to gain insights.\n",
    "4. Prepare the data for machine learning algorithms.\n",
    "5. Select a model and train it.\n",
    "6. Fine-tune your model.\n",
    "7. Present your solution.\n",
    "8. Launch, monitor, and maintain your system."
   ]
  },
  {
   "cell_type": "markdown",
   "metadata": {},
   "source": [
    "# A. Working w/ Real Data:\n",
    "\n",
    "* When you are learning about machine learning, it is best to experiment with real-world data, not artificial datasets.\n",
    "\n",
    "* Popular Open Data Repositories:\n",
    "    * [OpenML.org](https://openml.org/)\n",
    "    * [Kaggle.com](https://www.kaggle.com/datasets)\n",
    "    * [PaperWithCode.com](https://paperswithcode.com/datasets)\n",
    "    * [UC Irvine Machine Learning Repository](https://archive.ics.uci.edu/)\n",
    "    * [Amazon’s AWS datasets](https://registry.opendata.aws/)\n",
    "    * [TensorFlow datasets](https://www.tensorflow.org/datasets)\n",
    "\n",
    "* Meta Portals (List Open Data Repositories):\n",
    "    * [DataPortals.org](https://dataportals.org/)\n",
    "    * [OpenDataMonitor.eu](https://opendatamonitor.eu/frontend/web/index.php?r=dashboard%2Findex)\n",
    "    * [Wikipedia’s list of machine learning datasets](https://en.wikipedia.org/wiki/List_of_datasets_for_machine-learning_research)\n",
    "    * [Quora.com](https://www.quora.com/Where-can-I-find-large-datasets-open-to-the-public)\n",
    "    * [The datasets subreddit](https://www.reddit.com/r/datasets/)"
   ]
  },
  {
   "cell_type": "markdown",
   "metadata": {},
   "source": [
    "# B. Look at the Big Picture:\n",
    "\n",
    "* [Machine Learning Project Checklist](./ML%20Project%20Checklist.ipynb)"
   ]
  },
  {
   "cell_type": "markdown",
   "metadata": {},
   "source": [
    "### B.1. Frame the Problem\n",
    "\n",
    "* What is the business objective?\n",
    "    * How does the company expect to use and benefit from this model?\n",
    "    * Knowing the objective is important because it will determine how you frame the problem, which algorithms you will select, which performance measure you will use to evaluate your model, and how much effort you will spend tweaking it.\n",
    "\n",
    "* What is the current solution looks like (if any)?\n",
    "    * The current situation will often give you a reference for performance, as well as insights on how to solve the problem.\n",
    "\n",
    "* Determine what kind of training supervision the model will need:\n",
    "    * Supervised Learning, since the dataset has labels. (District median housing)\n",
    "    * Multiple regression problem, since the system will use multiple features to make a prediction (the district’s population, the median income, etc.)\n",
    "    * Univariate regression problem, since we are only trying to predict a single value for each district.\n",
    "    * There is no continuous flow of data coming into the system, there is no particular need to adjust to changing data rapidly, and the data is small enough to fit in memory, so plain batch learning should do just fine."
   ]
  },
  {
   "cell_type": "markdown",
   "metadata": {},
   "source": [
    "### B.2 Select a Performance Measure:\n",
    "\n",
    "* **ROOT MEAN SQUARED ERROR (RMSE)** :\n",
    "    * A typical performance measure for regression problems is the root mean square error (RMSE).\n",
    "    * It gives an idea of how much error the system typically makes in its predictions, with a higher weight given to large errors.\n",
    "    * $RMSE(X,h)\\ =\\ \\sqrt{\\frac{1}{m_i}\\sum_{i=1}^{m}(h(x^i)-y^i)^2}$, where:\n",
    "        * $m$ = number of instances the dataset you are measuring the RMSE on.\n",
    "        * $x^i$ = vector of all the feature values (excluding the label) of the $i^th$ instance in the dataset.\n",
    "        * $y^i$ = label of $x^i$, the desired output value for that instance.\n",
    "        * $X$ = is a matrix containing all the feature values (excluding labels) of all instances in the dataset. There is one row per instance, and the $i^th$ row is equal to the transpose of $x^i \\rightarrow (x^i)^T$\n",
    "        * $h$ = Prediction function, also called a **hypothesis**.\n",
    "            * When your system is given an instance’s feature vector $x^i$, it outputs a predicted value $\\hat{y}^i\\ =\\ h(x^i)$.\n",
    "            * Prediction error is then equal to $\\hat{y}^i-$y^i$.\n",
    "        * $RMSE(X,h)$ = the cost function measured on the set of examples using your hypothesis $h$.\n",
    "\n",
    "* **MEAN ABSOLUTE ERROR(MAE)**:\n",
    "    * also called average absolute deviation.\n",
    "    * For data with many outliers.\n",
    "    * $MAE(X,h) = \\frac{1}{m_i}\\sum_{i=1}^{m}|h(x^i)-y^i|$\n",
    "\n",
    "* Both the RMSE and the MAE are ways to measure the distance between two vectors: the vector of predictions and the vector of target values. Various distance measures, or norms, are possible:\n",
    "    * Computing the root of a sum of squares (RMSE) corresponds to the Euclidean norm: this is the notion of distance we are all familiar with\n",
    "        * Also called the $l_2\\ norm$, noted $||.||_2$ or just $||.||$\n",
    "    * Computing the sum of absolutes (MAE) corresponds to the $l_1\\ norm$, noted $||.||_1$\n",
    "        * This is sometimes called the Manhattan norm because it measures the distance between two points in a city if you can only travel along orthogonal city blocks.\n",
    "    * More generally $l_k\\ norm$ of vector $v$ containing $n$ elements is defined as:\n",
    "        * $||v||_k\\ =\\ (|v_1|^k\\ +\\ |v_2|^k\\ +\\ ...\\ +\\ |v_n|^k)^\\frac{1}{k}$.\n",
    "        * $l_0$ gives the number of nonzero elements in the vector, and $l_\\infty$ gives the maximum absolute value in the vector.\n",
    "\n",
    "* The higher the norm index, the more it focuses on large values and neglects small ones.\n",
    "    * This is why the RMSE is more sensitive to outliers than the MAE. But when outliers are exponentially rare (like in a bell-shaped curve), the RMSE performs very well and is generally preferred."
   ]
  },
  {
   "cell_type": "markdown",
   "metadata": {},
   "source": [
    "### B.3. Check the Assumptions:\n",
    "\n",
    "* Lastly, it is good practice to list and verify the assumptions that have been made so far (by you or others);\n",
    "    * This can help you catch serious issues early on."
   ]
  },
  {
   "cell_type": "markdown",
   "metadata": {},
   "source": [
    "# C. Get the Data:"
   ]
  },
  {
   "cell_type": "code",
   "execution_count": null,
   "metadata": {},
   "outputs": [],
   "source": []
  }
 ],
 "metadata": {
  "language_info": {
   "name": "python"
  },
  "orig_nbformat": 4
 },
 "nbformat": 4,
 "nbformat_minor": 2
}
