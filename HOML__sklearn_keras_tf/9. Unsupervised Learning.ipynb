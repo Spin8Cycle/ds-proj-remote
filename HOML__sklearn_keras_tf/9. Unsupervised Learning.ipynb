{
 "cells": [
  {
   "cell_type": "markdown",
   "metadata": {},
   "source": [
    "# Unsupervised Learning Techniques:\n",
    "\n",
    "\n",
    "# A. Clustering Algoritms: k-means and DBSCAN:\n",
    "\n",
    "* Clustering is the task of identifying similar instances and assigning them to clusters, or groups of similar instances.\n",
    "\n",
    "* Clustering is used in a wide variety of applications, including:\n",
    "    * Customer segmentation\n",
    "    * Data analysis\n",
    "    * Dimensionality reduction\n",
    "    * Feature engineering\n",
    "    * Anomaly detection (also called outlier detection)\n",
    "    * Semi-supervised learning\n",
    "    * Search engines\n",
    "    * Image segmentation\n",
    "    "
   ]
  },
  {
   "cell_type": "markdown",
   "metadata": {},
   "source": [
    "### A.1 k-means:\n",
    "\n",
    "* "
   ]
  },
  {
   "cell_type": "code",
   "execution_count": null,
   "metadata": {},
   "outputs": [],
   "source": []
  }
 ],
 "metadata": {
  "language_info": {
   "name": "python"
  }
 },
 "nbformat": 4,
 "nbformat_minor": 2
}
