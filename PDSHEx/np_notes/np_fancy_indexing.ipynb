{
 "cells": [
  {
   "cell_type": "markdown",
   "metadata": {},
   "source": [
    "# Fancy Indexing:\n",
    "* Pass arrays of indices in place of single scalars. This allows us to very quickly access and modify complicated subsets of an array's values.\n",
    "* When using arrays of indices, the shape of the result reflects the shape of the index arrays rather than the shape of the array being indexed.\n",
    "* With fancy indexing, the return value reflects the broadcasted shape of the indices, rather than the shape of the array being indexed."
   ]
  },
  {
   "cell_type": "code",
   "execution_count": 2,
   "metadata": {},
   "outputs": [
    {
     "data": {
      "text/plain": [
       "Generator(PCG64) at 0x209606B1380"
      ]
     },
     "execution_count": 2,
     "metadata": {},
     "output_type": "execute_result"
    }
   ],
   "source": [
    "import numpy as np\n",
    "\n",
    "rng = np.random.default_rng(seed=42)\n",
    "rng"
   ]
  },
  {
   "cell_type": "code",
   "execution_count": 3,
   "metadata": {},
   "outputs": [
    {
     "data": {
      "text/plain": [
       "array([ 8, 77, 65, 43, 43, 85,  8, 69, 20,  9], dtype=int64)"
      ]
     },
     "execution_count": 3,
     "metadata": {},
     "output_type": "execute_result"
    }
   ],
   "source": [
    "x = rng.integers(100, size=10)\n",
    "x"
   ]
  },
  {
   "cell_type": "code",
   "execution_count": 4,
   "metadata": {},
   "outputs": [
    {
     "data": {
      "text/plain": [
       "[43, 69, 65]"
      ]
     },
     "execution_count": 4,
     "metadata": {},
     "output_type": "execute_result"
    }
   ],
   "source": [
    "#Access 3 different elements\n",
    "[x[3], x[7], x[2]]"
   ]
  },
  {
   "cell_type": "code",
   "execution_count": 5,
   "metadata": {},
   "outputs": [
    {
     "data": {
      "text/plain": [
       "array([43, 69, 43], dtype=int64)"
      ]
     },
     "execution_count": 5,
     "metadata": {},
     "output_type": "execute_result"
    }
   ],
   "source": [
    "# Or this\n",
    "ind = [3, 7, 4]\n",
    "x[ind]"
   ]
  },
  {
   "cell_type": "code",
   "execution_count": 6,
   "metadata": {},
   "outputs": [
    {
     "data": {
      "text/plain": [
       "array([[3, 7],\n",
       "       [4, 5]])"
      ]
     },
     "execution_count": 6,
     "metadata": {},
     "output_type": "execute_result"
    }
   ],
   "source": [
    "ind2 = np.array([[3, 7],\n",
    "                 [4, 5]])\n",
    "ind2"
   ]
  },
  {
   "cell_type": "code",
   "execution_count": 7,
   "metadata": {},
   "outputs": [
    {
     "data": {
      "text/plain": [
       "array([[43, 69],\n",
       "       [43, 85]], dtype=int64)"
      ]
     },
     "execution_count": 7,
     "metadata": {},
     "output_type": "execute_result"
    }
   ],
   "source": [
    "x[ind2]"
   ]
  },
  {
   "cell_type": "code",
   "execution_count": 8,
   "metadata": {},
   "outputs": [
    {
     "data": {
      "text/plain": [
       "array([[ 0,  1,  2,  3],\n",
       "       [ 4,  5,  6,  7],\n",
       "       [ 8,  9, 10, 11]])"
      ]
     },
     "execution_count": 8,
     "metadata": {},
     "output_type": "execute_result"
    }
   ],
   "source": [
    "X = np.arange(12).reshape(3, 4)\n",
    "X"
   ]
  },
  {
   "cell_type": "code",
   "execution_count": 9,
   "metadata": {},
   "outputs": [
    {
     "data": {
      "text/plain": [
       "array([ 2,  5, 11])"
      ]
     },
     "execution_count": 9,
     "metadata": {},
     "output_type": "execute_result"
    }
   ],
   "source": [
    "row = np.array([0, 1, 2])\n",
    "col = np.array([2, 1, 3])\n",
    "X[row, col]"
   ]
  },
  {
   "cell_type": "code",
   "execution_count": 10,
   "metadata": {},
   "outputs": [
    {
     "data": {
      "text/plain": [
       "array([[ 2,  1,  3],\n",
       "       [ 6,  5,  7],\n",
       "       [10,  9, 11]])"
      ]
     },
     "execution_count": 10,
     "metadata": {},
     "output_type": "execute_result"
    }
   ],
   "source": [
    "X[row[:, np.newaxis], col]"
   ]
  },
  {
   "cell_type": "code",
   "execution_count": 14,
   "metadata": {},
   "outputs": [
    {
     "data": {
      "text/plain": [
       "array([[0],\n",
       "       [1],\n",
       "       [2]])"
      ]
     },
     "execution_count": 14,
     "metadata": {},
     "output_type": "execute_result"
    }
   ],
   "source": [
    "row[:, np.newaxis]"
   ]
  },
  {
   "cell_type": "code",
   "execution_count": 15,
   "metadata": {},
   "outputs": [
    {
     "data": {
      "text/plain": [
       "array([[0, 0, 0],\n",
       "       [2, 1, 3],\n",
       "       [4, 2, 6]])"
      ]
     },
     "execution_count": 15,
     "metadata": {},
     "output_type": "execute_result"
    }
   ],
   "source": [
    "row[:, np.newaxis] * col"
   ]
  },
  {
   "cell_type": "markdown",
   "metadata": {},
   "source": [
    "# A. Combined Indexing:"
   ]
  },
  {
   "cell_type": "code",
   "execution_count": 16,
   "metadata": {},
   "outputs": [
    {
     "name": "stdout",
     "output_type": "stream",
     "text": [
      "[[ 0  1  2  3]\n",
      " [ 4  5  6  7]\n",
      " [ 8  9 10 11]]\n"
     ]
    }
   ],
   "source": [
    "print(X)"
   ]
  },
  {
   "cell_type": "code",
   "execution_count": 17,
   "metadata": {},
   "outputs": [
    {
     "data": {
      "text/plain": [
       "array([10,  8,  9])"
      ]
     },
     "execution_count": 17,
     "metadata": {},
     "output_type": "execute_result"
    }
   ],
   "source": [
    "# Fancy + Simple Indexing:\n",
    "X[2, [2, 0, 1]]"
   ]
  },
  {
   "cell_type": "code",
   "execution_count": 18,
   "metadata": {},
   "outputs": [
    {
     "data": {
      "text/plain": [
       "array([[ 0,  2],\n",
       "       [ 4,  6],\n",
       "       [ 8, 10]])"
      ]
     },
     "execution_count": 18,
     "metadata": {},
     "output_type": "execute_result"
    }
   ],
   "source": [
    "# Fancy indexing w/ masking:\n",
    "mask = np.array([True, False, True, False])\n",
    "X[row[:, np.newaxis], mask]\n"
   ]
  },
  {
   "cell_type": "code",
   "execution_count": 23,
   "metadata": {},
   "outputs": [
    {
     "data": {
      "text/plain": [
       "array([1, 0, 1, 0])"
      ]
     },
     "execution_count": 23,
     "metadata": {},
     "output_type": "execute_result"
    }
   ],
   "source": [
    "np.int32(mask)"
   ]
  },
  {
   "cell_type": "code",
   "execution_count": 27,
   "metadata": {},
   "outputs": [
    {
     "data": {
      "text/plain": [
       "array([[ 0,  2],\n",
       "       [ 4,  6],\n",
       "       [ 8, 10]])"
      ]
     },
     "execution_count": 27,
     "metadata": {},
     "output_type": "execute_result"
    }
   ],
   "source": [
    "X[:, mask]"
   ]
  },
  {
   "cell_type": "markdown",
   "metadata": {},
   "source": [
    "# B. Example: Selecting Random Points:\n",
    "* One common use of fancy indexing is the selection of subsets of rows from a matrix"
   ]
  },
  {
   "cell_type": "code",
   "execution_count": 29,
   "metadata": {},
   "outputs": [
    {
     "data": {
      "text/plain": [
       "(100, 2)"
      ]
     },
     "execution_count": 29,
     "metadata": {},
     "output_type": "execute_result"
    }
   ],
   "source": [
    "mean = [0, 0]\n",
    "cov = [[1, 2], [2, 5]]\n",
    "X = rng.multivariate_normal(mean, cov, 100)\n",
    "X.shape"
   ]
  },
  {
   "cell_type": "code",
   "execution_count": 30,
   "metadata": {},
   "outputs": [
    {
     "data": {
      "text/plain": [
       "array([[ 1.15413459,  2.92470083],\n",
       "       [ 0.29859958,  0.70269772],\n",
       "       [ 0.45157879,  2.04206115],\n",
       "       [-0.7438549 , -1.72435348],\n",
       "       [-1.22034316, -2.44014054],\n",
       "       [ 0.6527679 ,  1.9750541 ],\n",
       "       [ 0.54972363,  2.277978  ],\n",
       "       [ 0.11686929,  0.08205385],\n",
       "       [ 0.16125055,  1.71256248],\n",
       "       [ 0.30668059,  0.27677374],\n",
       "       [ 0.12162307,  0.86979138],\n",
       "       [-0.49557222, -0.74967862],\n",
       "       [-1.21759976, -0.6214432 ],\n",
       "       [ 0.57150532,  0.82528836],\n",
       "       [ 0.51610285,  1.91271382],\n",
       "       [-0.99942859, -2.5361699 ],\n",
       "       [ 1.09171867,  1.74322999],\n",
       "       [-0.88550042, -1.3332946 ],\n",
       "       [-0.24712957, -1.31696608],\n",
       "       [-0.25914282, -0.4993263 ],\n",
       "       [-0.53552327, -0.34963984],\n",
       "       [-0.46638432, -0.39110061],\n",
       "       [-0.17307612, -0.10490214],\n",
       "       [-0.02560488, -1.63902974],\n",
       "       [ 0.47534152,  0.63844824],\n",
       "       [ 0.69553855,  1.38136677],\n",
       "       [-1.04980646, -3.47162583],\n",
       "       [-0.25056617, -2.42644537],\n",
       "       [ 0.24711052,  0.77274023],\n",
       "       [-0.81377344, -1.19479678],\n",
       "       [-0.59950597, -1.82479273],\n",
       "       [ 0.0988242 ,  1.16724913],\n",
       "       [ 0.66492617,  0.22448085],\n",
       "       [ 1.39888002,  2.38198713],\n",
       "       [-0.51382061, -1.08631217],\n",
       "       [-0.47442278, -1.60781283],\n",
       "       [-0.38587465, -0.25444966],\n",
       "       [ 0.11099862,  0.76238433],\n",
       "       [ 0.75047452,  1.41883912],\n",
       "       [ 0.81030785,  0.66188869],\n",
       "       [-0.27027141, -1.16057033],\n",
       "       [-0.19551684,  0.04833702],\n",
       "       [-0.66717287, -0.89049014],\n",
       "       [ 0.25297797,  0.15256807],\n",
       "       [ 0.71936496, -0.089657  ],\n",
       "       [ 1.84313282,  3.01803651],\n",
       "       [ 0.76834896,  2.28767098],\n",
       "       [ 0.98127011,  1.95967541],\n",
       "       [-1.06399411, -2.95432636],\n",
       "       [-0.32409552, -1.7929763 ],\n",
       "       [ 0.55335726,  0.30762613],\n",
       "       [-0.00834628,  0.88939327],\n",
       "       [ 1.42958925,  3.92155053],\n",
       "       [ 0.00773229, -0.62443589],\n",
       "       [ 1.30838049,  3.23678233],\n",
       "       [ 0.40014615,  1.21788517],\n",
       "       [-0.63316299,  0.20516229],\n",
       "       [ 0.6128113 ,  0.37163165],\n",
       "       [-0.24981818, -0.36499173],\n",
       "       [-1.57530882, -2.89921402],\n",
       "       [-0.88968764, -0.56402833],\n",
       "       [ 1.34309617,  2.55005891],\n",
       "       [ 1.0052183 ,  2.00488456],\n",
       "       [ 1.02883041,  3.17129876],\n",
       "       [ 0.7681602 ,  0.26251352],\n",
       "       [ 0.81829617,  2.31488666],\n",
       "       [-1.53844381, -1.55288597],\n",
       "       [-2.85064552, -6.43351353],\n",
       "       [ 1.7301128 ,  1.86915153],\n",
       "       [ 0.06376595, -0.72597648],\n",
       "       [ 0.61797938,  0.82940539],\n",
       "       [-0.27785916,  0.48299735],\n",
       "       [-0.08438703, -0.37543343],\n",
       "       [ 1.59769272,  2.04450768],\n",
       "       [ 0.46987161,  1.07615661],\n",
       "       [-1.68320816, -3.92261585],\n",
       "       [-0.71686077, -2.27108865],\n",
       "       [ 1.46407949,  2.4899657 ],\n",
       "       [-0.14450859,  1.95496445],\n",
       "       [ 0.43798641,  1.96496692],\n",
       "       [ 0.47769838,  2.16159327],\n",
       "       [-0.29570559, -0.88344009],\n",
       "       [ 0.28823607, -0.01287367],\n",
       "       [-0.23800234, -1.06705904],\n",
       "       [ 1.62135762,  2.53107389],\n",
       "       [-0.76374251, -0.13464146],\n",
       "       [-0.10241206, -0.37565777],\n",
       "       [-0.76385415, -0.43050095],\n",
       "       [-0.04542796, -0.55445723],\n",
       "       [-1.18615548, -2.39955003],\n",
       "       [-1.48897431, -3.39637045],\n",
       "       [ 1.65483373,  2.5142372 ],\n",
       "       [-2.18487684, -3.40907697],\n",
       "       [ 0.31249357,  0.33966724],\n",
       "       [-0.92655043, -3.43514822],\n",
       "       [ 0.58042947,  2.09761261],\n",
       "       [ 0.36652765,  0.87933215],\n",
       "       [ 0.02181736,  0.41805983],\n",
       "       [-1.33500903, -3.1249485 ],\n",
       "       [ 0.18964503, -1.7612467 ]])"
      ]
     },
     "execution_count": 30,
     "metadata": {},
     "output_type": "execute_result"
    }
   ],
   "source": [
    "X"
   ]
  },
  {
   "cell_type": "code",
   "execution_count": 31,
   "metadata": {},
   "outputs": [
    {
     "name": "stderr",
     "output_type": "stream",
     "text": [
      "C:\\Users\\JCA\\AppData\\Local\\Temp\\ipykernel_14676\\3555842872.py:3: MatplotlibDeprecationWarning: The seaborn styles shipped by Matplotlib are deprecated since 3.6, as they no longer correspond to the styles shipped by seaborn. However, they will remain available as 'seaborn-v0_8-<style>'. Alternatively, directly use the seaborn API instead.\n",
      "  plt.style.use('seaborn-whitegrid')\n"
     ]
    },
    {
     "data": {
      "text/plain": [
       "<matplotlib.collections.PathCollection at 0x20962591750>"
      ]
     },
     "execution_count": 31,
     "metadata": {},
     "output_type": "execute_result"
    },
    {
     "data": {
      "image/png": "[encoded data removed]",
      "text/plain": [
       "<Figure size 640x480 with 1 Axes>"
      ]
     },
     "metadata": {},
     "output_type": "display_data"
    }
   ],
   "source": [
    "%matplotlib inline\n",
    "import matplotlib.pyplot as plt\n",
    "plt.style.use('seaborn-whitegrid')\n",
    "plt.scatter(X[:, 0], X[:, 1])"
   ]
  },
  {
   "cell_type": "code",
   "execution_count": 32,
   "metadata": {},
   "outputs": [
    {
     "data": {
      "text/plain": [
       "array([40, 10, 38, 55, 42, 94, 45,  0, 50, 22,  4,  3, 53, 26, 33, 59, 41,\n",
       "       17, 11, 15])"
      ]
     },
     "execution_count": 32,
     "metadata": {},
     "output_type": "execute_result"
    }
   ],
   "source": [
    "indices = np.random.choice(X.shape[0], 20, replace=False)\n",
    "indices"
   ]
  },
  {
   "cell_type": "code",
   "execution_count": 33,
   "metadata": {},
   "outputs": [
    {
     "data": {
      "text/plain": [
       "(20, 2)"
      ]
     },
     "execution_count": 33,
     "metadata": {},
     "output_type": "execute_result"
    }
   ],
   "source": [
    "selection = X[indices]\n",
    "selection.shape"
   ]
  },
  {
   "cell_type": "code",
   "execution_count": 34,
   "metadata": {},
   "outputs": [
    {
     "data": {
      "text/plain": [
       "array([[-0.27027141, -1.16057033],\n",
       "       [ 0.12162307,  0.86979138],\n",
       "       [ 0.75047452,  1.41883912],\n",
       "       [ 0.40014615,  1.21788517],\n",
       "       [-0.66717287, -0.89049014],\n",
       "       [-0.92655043, -3.43514822],\n",
       "       [ 1.84313282,  3.01803651],\n",
       "       [ 1.15413459,  2.92470083],\n",
       "       [ 0.55335726,  0.30762613],\n",
       "       [-0.17307612, -0.10490214],\n",
       "       [-1.22034316, -2.44014054],\n",
       "       [-0.7438549 , -1.72435348],\n",
       "       [ 0.00773229, -0.62443589],\n",
       "       [-1.04980646, -3.47162583],\n",
       "       [ 1.39888002,  2.38198713],\n",
       "       [-1.57530882, -2.89921402],\n",
       "       [-0.19551684,  0.04833702],\n",
       "       [-0.88550042, -1.3332946 ],\n",
       "       [-0.49557222, -0.74967862],\n",
       "       [-0.99942859, -2.5361699 ]])"
      ]
     },
     "execution_count": 34,
     "metadata": {},
     "output_type": "execute_result"
    }
   ],
   "source": [
    "selection"
   ]
  },
  {
   "cell_type": "code",
   "execution_count": 35,
   "metadata": {},
   "outputs": [
    {
     "data": {
      "image/png": "[encoded data removed]",
      "text/plain": [
       "<Figure size 640x480 with 1 Axes>"
      ]
     },
     "metadata": {},
     "output_type": "display_data"
    }
   ],
   "source": [
    "plt.scatter(X[:, 0], X[:, 1], alpha=0.3)\n",
    "plt.scatter(selection[:, 0], selection[:, 1], facecolor='none', edgecolors='black', s=200);"
   ]
  },
  {
   "cell_type": "markdown",
   "metadata": {},
   "source": [
    "# C. Modifying Values w/ Fancy Indexing:"
   ]
  },
  {
   "cell_type": "code",
   "execution_count": 37,
   "metadata": {},
   "outputs": [
    {
     "name": "stdout",
     "output_type": "stream",
     "text": [
      "[ 0 99 99  3 99  5  6  7 99  9]\n"
     ]
    }
   ],
   "source": [
    "x = np.arange(10)\n",
    "i = np.array([2, 1, 8 ,4])\n",
    "x[i] = 99\n",
    "print(x)"
   ]
  },
  {
   "cell_type": "code",
   "execution_count": 38,
   "metadata": {},
   "outputs": [
    {
     "name": "stdout",
     "output_type": "stream",
     "text": [
      "[ 0 89 89  3 89  5  6  7 89  9]\n"
     ]
    }
   ],
   "source": [
    "x[i] -= 10\n",
    "print(x)"
   ]
  },
  {
   "cell_type": "code",
   "execution_count": 39,
   "metadata": {},
   "outputs": [
    {
     "data": {
      "text/plain": [
       "array([0., 0., 0., 0., 0., 0., 0., 0., 0., 0.])"
      ]
     },
     "execution_count": 39,
     "metadata": {},
     "output_type": "execute_result"
    }
   ],
   "source": [
    "x = np.zeros(10)\n",
    "x"
   ]
  },
  {
   "cell_type": "code",
   "execution_count": 40,
   "metadata": {},
   "outputs": [
    {
     "name": "stdout",
     "output_type": "stream",
     "text": [
      "[6. 0. 0. 0. 0. 0. 0. 0. 0. 0.]\n"
     ]
    }
   ],
   "source": [
    "x[[0, 0]] = [4, 6]\n",
    "print(x)"
   ]
  },
  {
   "cell_type": "code",
   "execution_count": 41,
   "metadata": {},
   "outputs": [
    {
     "data": {
      "text/plain": [
       "array([6., 0., 1., 1., 1., 0., 0., 0., 0., 0.])"
      ]
     },
     "execution_count": 41,
     "metadata": {},
     "output_type": "execute_result"
    }
   ],
   "source": [
    "i = [2, 3, 3, 4, 4, 4]\n",
    "x[i] += 1\n",
    "x"
   ]
  },
  {
   "cell_type": "code",
   "execution_count": 42,
   "metadata": {},
   "outputs": [
    {
     "data": {
      "text/plain": [
       "array([0., 0., 1., 2., 3., 0., 0., 0., 0., 0.])"
      ]
     },
     "execution_count": 42,
     "metadata": {},
     "output_type": "execute_result"
    }
   ],
   "source": [
    "x = np.zeros(10)\n",
    "np.add.at(x, i, 1)\n",
    "x"
   ]
  },
  {
   "cell_type": "markdown",
   "metadata": {},
   "source": [
    "# D. Example: Binning Data"
   ]
  },
  {
   "cell_type": "code",
   "execution_count": 44,
   "metadata": {},
   "outputs": [],
   "source": [
    "rng = np.random.default_rng(seed=1701)\n",
    "x = rng.normal(size=100)\n",
    "\n",
    "# Compute a histogram by hand\n",
    "bins = np.linspace(-5, 5, 20)\n",
    "counts = np.zeros_like(bins)"
   ]
  },
  {
   "cell_type": "code",
   "execution_count": 45,
   "metadata": {},
   "outputs": [
    {
     "data": {
      "text/plain": [
       "array([-5.        , -4.47368421, -3.94736842, -3.42105263, -2.89473684,\n",
       "       -2.36842105, -1.84210526, -1.31578947, -0.78947368, -0.26315789,\n",
       "        0.26315789,  0.78947368,  1.31578947,  1.84210526,  2.36842105,\n",
       "        2.89473684,  3.42105263,  3.94736842,  4.47368421,  5.        ])"
      ]
     },
     "execution_count": 45,
     "metadata": {},
     "output_type": "execute_result"
    }
   ],
   "source": [
    "bins"
   ]
  },
  {
   "cell_type": "code",
   "execution_count": 46,
   "metadata": {},
   "outputs": [
    {
     "data": {
      "text/plain": [
       "array([0., 0., 0., 0., 0., 0., 0., 0., 0., 0., 0., 0., 0., 0., 0., 0., 0.,\n",
       "       0., 0., 0.])"
      ]
     },
     "execution_count": 46,
     "metadata": {},
     "output_type": "execute_result"
    }
   ],
   "source": [
    "counts"
   ]
  },
  {
   "cell_type": "code",
   "execution_count": 47,
   "metadata": {},
   "outputs": [
    {
     "data": {
      "text/plain": [
       "array([11, 11, 11,  8, 11,  7, 13,  8, 12,  8, 11, 10, 11,  9, 13,  9,  9,\n",
       "        7, 11, 11, 13, 11,  8,  8, 11, 10, 13, 12, 10, 11,  7, 15, 10,  7,\n",
       "       14,  8,  9, 11, 11,  9, 10, 13, 10,  7, 13, 11, 11, 13, 11, 11,  9,\n",
       "        8, 12,  9,  8, 10, 11,  8, 11,  6,  8, 11,  8,  8, 11, 12, 11,  9,\n",
       "       16, 11, 11, 10, 11, 11, 13, 10,  7,  8, 11, 11,  7,  9,  9, 11, 12,\n",
       "        9, 11, 12, 14,  9, 11, 12, 10,  8, 10, 10,  9, 11,  8, 15],\n",
       "      dtype=int64)"
      ]
     },
     "execution_count": 47,
     "metadata": {},
     "output_type": "execute_result"
    }
   ],
   "source": [
    "# find the appropriate bin for each x\n",
    "i = np.searchsorted(bins, x)\n",
    "i"
   ]
  },
  {
   "cell_type": "code",
   "execution_count": 48,
   "metadata": {},
   "outputs": [
    {
     "data": {
      "text/plain": [
       "array([ 0.43874206,  0.32818515,  0.68328838, -0.81928256,  0.69156442,\n",
       "       -1.62453268,  1.50806312, -1.22449846,  1.22696072, -1.05013046,\n",
       "        0.62509363,  0.09693023,  0.62776415, -0.28565182,  1.49678665,\n",
       "       -0.76768541, -0.3942867 , -1.35693505,  0.33524959,  0.57442768,\n",
       "        1.62016911,  0.33395176, -1.02906713, -0.94266623,  0.38365532,\n",
       "        0.25423793,  1.36108696,  1.25474959, -0.05637126,  0.44880896,\n",
       "       -1.47909513,  2.40254455, -0.06959272, -1.52752832,  1.93633419,\n",
       "       -1.28006351, -0.71562065,  0.72455605,  0.47362789, -0.33131697,\n",
       "        0.26272942,  1.75038031,  0.01834221, -1.43899931,  1.3716487 ,\n",
       "        0.67679557,  0.53793618,  1.53399445,  0.28214872,  0.56313954,\n",
       "       -0.37793941, -1.15832253,  0.96594187, -0.35611958, -1.28536874,\n",
       "        0.19742658,  0.41682623, -0.95386364,  0.75830441, -2.08596882,\n",
       "       -1.16203473,  0.34232684, -1.11888193, -1.13596   ,  0.6742499 ,\n",
       "        1.26767704,  0.65873509, -0.64003051,  3.09160717,  0.51595829,\n",
       "        0.61122253, -0.01723733,  0.3037547 ,  0.48345155,  1.31693828,\n",
       "        0.11558915, -1.71886929, -0.98511272,  0.42671049,  0.54159558,\n",
       "       -1.40923638, -0.38289913, -0.36361407,  0.51818448,  0.98517332,\n",
       "       -0.28010458,  0.48822092,  1.18871415,  2.35468027, -0.50254828,\n",
       "        0.72586398,  0.82359641,  0.12582911, -0.96702245,  0.16762368,\n",
       "       -0.25626375, -0.77984442,  0.73111879, -0.90911587,  2.5795842 ])"
      ]
     },
     "execution_count": 48,
     "metadata": {},
     "output_type": "execute_result"
    }
   ],
   "source": [
    "x"
   ]
  },
  {
   "cell_type": "code",
   "execution_count": 49,
   "metadata": {},
   "outputs": [],
   "source": [
    "np.add.at(counts, i, 1)"
   ]
  },
  {
   "cell_type": "code",
   "execution_count": 50,
   "metadata": {},
   "outputs": [
    {
     "data": {
      "text/plain": [
       "[<matplotlib.lines.Line2D at 0x209627f5240>]"
      ]
     },
     "execution_count": 50,
     "metadata": {},
     "output_type": "execute_result"
    },
    {
     "data": {
      "image/png": "[encoded data removed]",
      "text/plain": [
       "<Figure size 640x480 with 1 Axes>"
      ]
     },
     "metadata": {},
     "output_type": "display_data"
    }
   ],
   "source": [
    "plt.plot(bins, counts, drawstyle='steps')"
   ]
  },
  {
   "cell_type": "code",
   "execution_count": 51,
   "metadata": {},
   "outputs": [
    {
     "data": {
      "text/plain": [
       "(array([ 0.,  0.,  0.,  0.,  0.,  1.,  7., 15., 13., 12., 32.,  7.,  8.,\n",
       "         2.,  2.,  1.,  0.,  0.,  0.]),\n",
       " array([-5.        , -4.47368421, -3.94736842, -3.42105263, -2.89473684,\n",
       "        -2.36842105, -1.84210526, -1.31578947, -0.78947368, -0.26315789,\n",
       "         0.26315789,  0.78947368,  1.31578947,  1.84210526,  2.36842105,\n",
       "         2.89473684,  3.42105263,  3.94736842,  4.47368421,  5.        ]),\n",
       " [<matplotlib.patches.Polygon at 0x209627f7670>])"
      ]
     },
     "execution_count": 51,
     "metadata": {},
     "output_type": "execute_result"
    },
    {
     "data": {
      "image/png": "[encoded data removed]",
      "text/plain": [
       "<Figure size 640x480 with 1 Axes>"
      ]
     },
     "metadata": {},
     "output_type": "display_data"
    }
   ],
   "source": [
    "plt.hist(x, bins, histtype='step')"
   ]
  },
  {
   "cell_type": "code",
   "execution_count": null,
   "metadata": {},
   "outputs": [],
   "source": []
  }
 ],
 "metadata": {
  "kernelspec": {
   "display_name": "ds_ml_dl",
   "language": "python",
   "name": "python3"
  },
  "language_info": {
   "codemirror_mode": {
    "name": "ipython",
    "version": 3
   },
   "file_extension": ".py",
   "mimetype": "text/x-python",
   "name": "python",
   "nbconvert_exporter": "python",
   "pygments_lexer": "ipython3",
   "version": "3.10.12"
  },
  "orig_nbformat": 4
 },
 "nbformat": 4,
 "nbformat_minor": 2
}
