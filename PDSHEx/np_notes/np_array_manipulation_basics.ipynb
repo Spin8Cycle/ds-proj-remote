{
 "cells": [
  {
   "cell_type": "code",
   "execution_count": 2,
   "metadata": {},
   "outputs": [
    {
     "data": {
      "text/plain": [
       "'1.25.2'"
      ]
     },
     "execution_count": 2,
     "metadata": {},
     "output_type": "execute_result"
    }
   ],
   "source": [
    "import numpy as np\n",
    "np.__version__"
   ]
  },
  {
   "cell_type": "markdown",
   "metadata": {},
   "source": [
    "# NumPy Arrays Manipulation Basics :\n",
    "\n",
    "* Attributes:\n",
    "    * Determining the size, shape, memory consumption, and data types of arrays.\n",
    "* Indexing:\n",
    "    * Getting and setting the values of individual array elements\n",
    "* Slicing:\n",
    "    * Getting and setting smaller subarrays within a larger array\n",
    "* Reshaping:\n",
    "    * Changing the shape of a given array\n",
    "* Joining and splitting:\n",
    "    * Combining multiple arrays into one, and splitting one array into many\n"
   ]
  },
  {
   "cell_type": "markdown",
   "metadata": {},
   "source": [
    "### A: NP Array Attributes"
   ]
  },
  {
   "cell_type": "code",
   "execution_count": 15,
   "metadata": {},
   "outputs": [
    {
     "name": "stdout",
     "output_type": "stream",
     "text": [
      "1D array: \n",
      " [0 7 6 4 4 8] \n",
      "\n",
      " 2D array: \n",
      "  [[0 6 2 0]\n",
      " [5 9 7 7]\n",
      " [7 7 5 1]] \n",
      "\n",
      " 3D array: \n",
      " [[[8 4 5 3 1]\n",
      "  [9 7 6 4 8]\n",
      "  [5 4 4 2 0]\n",
      "  [5 8 0 8 8]]\n",
      "\n",
      " [[2 6 1 7 7]\n",
      "  [3 0 9 4 8]\n",
      "  [6 7 7 1 3]\n",
      "  [4 4 0 5 1]]\n",
      "\n",
      " [[7 6 9 7 3]\n",
      "  [9 4 3 9 3]\n",
      "  [0 4 7 1 4]\n",
      "  [1 6 4 3 2]]]\n"
     ]
    }
   ],
   "source": [
    "nprange = np.random.default_rng(seed=42)\n",
    "\n",
    "arr_1d = nprange.integers(10, size=6) \n",
    "arr_2d = nprange.integers(10, size=(3, 4))\n",
    "arr_3d = nprange.integers(10, size=(3,4,5)) \n",
    "\n",
    "print(f\"1D array: \\n {arr_1d} \\n\\n 2D array: \\n  {arr_2d} \\n\\n 3D array: \\n {arr_3d}\")"
   ]
  },
  {
   "cell_type": "code",
   "execution_count": 16,
   "metadata": {},
   "outputs": [
    {
     "name": "stdout",
     "output_type": "stream",
     "text": [
      "1D-array --> ndim: 1, shape: 1, size: 6, dtype: int64 \n",
      "2D-array --> ndim: 2, shape: 2, size: 12, dtype: int64 \n",
      "3D-array --> ndim: 3, shape: 3, size: 60, dtype: int64 \n"
     ]
    }
   ],
   "source": [
    "arrs = {'1D-array': arr_1d, '2D-array': arr_2d, '3D-array': arr_3d}\n",
    "\n",
    "for key, value in arrs.items():\n",
    "    print(f\"{key} --> ndim: {value.ndim}, shape: {value.ndim}, size: {value.size}, dtype: {value.dtype} \")"
   ]
  },
  {
   "cell_type": "markdown",
   "metadata": {},
   "source": [
    "### B: NP Array Slicing\n",
    "\n",
    "* $ array[start:stop:step] $"
   ]
  },
  {
   "cell_type": "markdown",
   "metadata": {},
   "source": [
    "##### B.1: Slicing 1D Subarrays"
   ]
  },
  {
   "cell_type": "code",
   "execution_count": 47,
   "metadata": {},
   "outputs": [
    {
     "name": "stdout",
     "output_type": "stream",
     "text": [
      "Original Array : \n",
      "\t array = array([0, 7, 6, 4, 4, 8], dtype=int64) \n",
      "\n",
      "First four elements : \n",
      "\t array[:4] = array([0, 7, 6, 4], dtype=int64) \n",
      "\n",
      "Elements after index 2(3rd Element) : \n",
      "\t array[2:] = array([6, 4, 4, 8], dtype=int64) \n",
      "\n",
      "Accessing Middle Elements(3rd Element to 5th Element) : \n",
      "\t array[2:5] = array([6, 4, 4], dtype=int64) \n",
      "\n",
      "Access every second element : \n",
      "\t array[::2] = array([0, 6, 4], dtype=int64) \n",
      "\n",
      "Access every second element, starting at index 2 : \n",
      "\t array[2::2] = array([6, 4], dtype=int64) \n",
      "\n",
      "Access every second element, starting at index 2 : \n",
      "\t array[2::2] = array([6, 4], dtype=int64) \n",
      "\n",
      "Access and reverse all elements : \n",
      "\t array[::-1] = array([8, 4, 4, 6, 7, 0], dtype=int64) \n",
      "\n",
      "Access every second element from index 4, reversed : \n",
      "\t array[4::-2] = array([4, 6, 0], dtype=int64) \n",
      "\n"
     ]
    }
   ],
   "source": [
    "def slice_1d(array):\n",
    "    print(f\"Original Array : \\n\\t {array = } \\n\")\n",
    "    print(f\"First four elements : \\n\\t {array[:4] = } \\n\")\n",
    "    print(f\"Elements after index 2(3rd Element) : \\n\\t {array[2:] = } \\n\")\n",
    "    print(f\"Accessing Middle Elements(3rd Element to 5th Element) : \\n\\t {array[2:5] = } \\n\")\n",
    "    print(f\"Access every second element : \\n\\t {array[::2] = } \\n\")\n",
    "    print(f\"Access every second element, starting at index 2 : \\n\\t {array[2::2] = } \\n\")\n",
    "    print(f\"Access every second element, starting at index 2 : \\n\\t {array[2::2] = } \\n\")\n",
    "    print(f\"Access and reverse all elements : \\n\\t {array[::-1] = } \\n\")\n",
    "    print(f\"Access every second element from index 4, reversed : \\n\\t {array[4::-2] = } \\n\")\n",
    "\n",
    "slice_1d(arr_1d)"
   ]
  },
  {
   "cell_type": "markdown",
   "metadata": {},
   "source": [
    "##### B.2: Slicing Multidimensional Subarrays"
   ]
  },
  {
   "cell_type": "code",
   "execution_count": 80,
   "metadata": {},
   "outputs": [
    {
     "name": "stdout",
     "output_type": "stream",
     "text": [
      "Original Array : \n",
      " [[0 6 2 0]\n",
      " [5 9 7 7]\n",
      " [7 7 5 1]] \n",
      "\n",
      "Accessing all rows and the 2nd column : \n",
      " array[:, 1] \n",
      " [6 9 7] \n",
      "\n",
      "Accessing the 3rd row and all columns : \n",
      " array[2, :] \n",
      " [7 7 5 1] \n",
      "\n",
      "Accessing the 3rd row and all columns : \n",
      " array[2] \n",
      " [7 7 5 1] \n",
      "\n",
      "First 2 rows and 3 columns : \n",
      " array[:2, :3] \n",
      " [[0 6 2]\n",
      " [5 9 7]] \n",
      "\n",
      "First 3 rows and every 2nd column : \n",
      " array[:3, ::2] \n",
      " [[0 2]\n",
      " [5 7]\n",
      " [7 5]] \n",
      "\n",
      "Reverse all rows and columns : \n",
      " array[::-1, ::-1] \n",
      " [[1 5 7 7]\n",
      " [7 7 9 5]\n",
      " [0 2 6 0]] \n",
      "\n"
     ]
    }
   ],
   "source": [
    "def slice_md(array):\n",
    "    print(f\"Original Array : \\n {array} \\n\")\n",
    "    print(f\"Accessing all rows and the 2nd column : \\n array[:, 1] \\n {array[:, 1] } \\n\")\n",
    "    print(f\"Accessing the 3rd row and all columns : \\n array[2, :] \\n {array[2, :] } \\n\")\n",
    "    print(f\"Accessing the 3rd row and all columns : \\n array[2] \\n {array[2] } \\n\")\n",
    "    print(f\"First 2 rows and 3 columns : \\n array[:2, :3] \\n {array[:2, :3] } \\n\")\n",
    "    print(f\"First 3 rows and every 2nd column : \\n array[:3, ::2] \\n {array[:3, ::2] } \\n\")\n",
    "    print(f\"Reverse all rows and columns : \\n array[::-1, ::-1] \\n {array[::-1, ::-1] } \\n\")\n",
    "\n",
    "slice_md(arr_2d)"
   ]
  },
  {
   "cell_type": "markdown",
   "metadata": {},
   "source": [
    "##### B.3: Subarrays as No-Copy Views\n",
    "\n",
    "* NumPy array slices are returned as views rather than copies of the array data."
   ]
  },
  {
   "cell_type": "code",
   "execution_count": 81,
   "metadata": {},
   "outputs": [
    {
     "name": "stdout",
     "output_type": "stream",
     "text": [
      "[[0 6 2 0]\n",
      " [5 9 7 7]\n",
      " [7 7 5 1]]\n"
     ]
    }
   ],
   "source": [
    "print(arr_2d)"
   ]
  },
  {
   "cell_type": "code",
   "execution_count": 83,
   "metadata": {},
   "outputs": [
    {
     "name": "stdout",
     "output_type": "stream",
     "text": [
      "[[7 7]\n",
      " [5 1]]\n"
     ]
    }
   ],
   "source": [
    "arr_2d_subarray = arr_2d[1:3, 2:]\n",
    "print(arr_2d_subarray)"
   ]
  },
  {
   "cell_type": "code",
   "execution_count": 85,
   "metadata": {},
   "outputs": [
    {
     "name": "stdout",
     "output_type": "stream",
     "text": [
      "[[   7    7]\n",
      " [   5 1000]]\n"
     ]
    }
   ],
   "source": [
    "arr_2d_subarray[1, 1] = 1000\n",
    "print(arr_2d_subarray)"
   ]
  },
  {
   "cell_type": "code",
   "execution_count": 86,
   "metadata": {},
   "outputs": [
    {
     "name": "stdout",
     "output_type": "stream",
     "text": [
      "[[   0    6    2    0]\n",
      " [   5    9    7    7]\n",
      " [   7    7    5 1000]]\n"
     ]
    }
   ],
   "source": [
    "print(arr_2d)"
   ]
  },
  {
   "cell_type": "markdown",
   "metadata": {},
   "source": [
    "##### B.4: Creating Copies of Arrays"
   ]
  },
  {
   "cell_type": "code",
   "execution_count": 89,
   "metadata": {},
   "outputs": [
    {
     "data": {
      "text/plain": [
       "array([[   7,    7],\n",
       "       [   5, 1000]], dtype=int64)"
      ]
     },
     "execution_count": 89,
     "metadata": {},
     "output_type": "execute_result"
    }
   ],
   "source": [
    "arr_2d_subarray_copy = arr_2d[1:3, 2:].copy()\n",
    "arr_2d_subarray_copy"
   ]
  },
  {
   "cell_type": "code",
   "execution_count": 90,
   "metadata": {},
   "outputs": [
    {
     "name": "stdout",
     "output_type": "stream",
     "text": [
      "[[ 7  7]\n",
      " [ 5 69]]\n"
     ]
    }
   ],
   "source": [
    "arr_2d_subarray_copy[1, 1] = 69\n",
    "print(arr_2d_subarray_copy)"
   ]
  },
  {
   "cell_type": "code",
   "execution_count": 91,
   "metadata": {},
   "outputs": [
    {
     "name": "stdout",
     "output_type": "stream",
     "text": [
      "[[   0    6    2    0]\n",
      " [   5    9    7    7]\n",
      " [   7    7    5 1000]]\n"
     ]
    }
   ],
   "source": [
    "print(arr_2d)"
   ]
  },
  {
   "cell_type": "markdown",
   "metadata": {},
   "source": [
    "### C: Reshaping of Arrays"
   ]
  },
  {
   "cell_type": "code",
   "execution_count": 97,
   "metadata": {},
   "outputs": [
    {
     "name": "stdout",
     "output_type": "stream",
     "text": [
      "[[11 12 13]\n",
      " [14 15 16]\n",
      " [17 18 19]]\n"
     ]
    }
   ],
   "source": [
    "arr_3d_reshape = np.arange(11, 20).reshape(3, 3)\n",
    "print(arr_3d_reshape)"
   ]
  },
  {
   "cell_type": "code",
   "execution_count": 109,
   "metadata": {},
   "outputs": [
    {
     "name": "stdout",
     "output_type": "stream",
     "text": [
      "[[2 4 6 8]]\n"
     ]
    }
   ],
   "source": [
    "x = np.array([2, 4, 6, 8])\n",
    "print(x.reshape((1, 4)))"
   ]
  },
  {
   "cell_type": "code",
   "execution_count": 103,
   "metadata": {},
   "outputs": [
    {
     "name": "stdout",
     "output_type": "stream",
     "text": [
      "[[2]\n",
      " [4]\n",
      " [6]\n",
      " [8]]\n"
     ]
    }
   ],
   "source": [
    "print(x.reshape((4, 1)))"
   ]
  },
  {
   "cell_type": "code",
   "execution_count": 104,
   "metadata": {},
   "outputs": [
    {
     "name": "stdout",
     "output_type": "stream",
     "text": [
      "[2 4 6 8]\n"
     ]
    }
   ],
   "source": [
    "print(x)"
   ]
  },
  {
   "cell_type": "code",
   "execution_count": 110,
   "metadata": {},
   "outputs": [
    {
     "data": {
      "text/plain": [
       "array([[2, 4, 6, 8]])"
      ]
     },
     "execution_count": 110,
     "metadata": {},
     "output_type": "execute_result"
    }
   ],
   "source": [
    "x[np.newaxis, :]"
   ]
  },
  {
   "cell_type": "code",
   "execution_count": 111,
   "metadata": {},
   "outputs": [
    {
     "data": {
      "text/plain": [
       "array([[2],\n",
       "       [4],\n",
       "       [6],\n",
       "       [8]])"
      ]
     },
     "execution_count": 111,
     "metadata": {},
     "output_type": "execute_result"
    }
   ],
   "source": [
    "x[:, np.newaxis]"
   ]
  },
  {
   "cell_type": "markdown",
   "metadata": {},
   "source": [
    "### D: Array Concatenation and Splitting\n"
   ]
  },
  {
   "cell_type": "markdown",
   "metadata": {},
   "source": [
    "##### D.1: Array Concatenation\n",
    "\n",
    "* $np.concatenate, np.vstack, np.hstack$\n",
    "* For higher dimensional arrays, $np.dstack$ will stack arrays along the 3rd axis"
   ]
  },
  {
   "cell_type": "code",
   "execution_count": 115,
   "metadata": {},
   "outputs": [
    {
     "data": {
      "text/plain": [
       "array([ 1,  3,  5, 20, 40, 60])"
      ]
     },
     "execution_count": 115,
     "metadata": {},
     "output_type": "execute_result"
    }
   ],
   "source": [
    "a = np.array([1, 3, 5])\n",
    "b = np.array([20, 40, 60])\n",
    "np.concatenate([a, b]) "
   ]
  },
  {
   "cell_type": "code",
   "execution_count": 116,
   "metadata": {},
   "outputs": [
    {
     "data": {
      "text/plain": [
       "array([20, 40, 60,  1,  3,  5])"
      ]
     },
     "execution_count": 116,
     "metadata": {},
     "output_type": "execute_result"
    }
   ],
   "source": [
    "np.concatenate([b, a])"
   ]
  },
  {
   "cell_type": "code",
   "execution_count": 117,
   "metadata": {},
   "outputs": [
    {
     "data": {
      "text/plain": [
       "array([  1,   3,   5,  20,  40,  60, 111, 222, 333])"
      ]
     },
     "execution_count": 117,
     "metadata": {},
     "output_type": "execute_result"
    }
   ],
   "source": [
    "c = np.array([111, 222, 333])\n",
    "np.concatenate([a, b, c])"
   ]
  },
  {
   "cell_type": "code",
   "execution_count": 124,
   "metadata": {},
   "outputs": [],
   "source": [
    "grid1 = np.arange(1, 7).reshape(2, 3)\n",
    "grid2 = np.arange(101, 107).reshape(2, 3)"
   ]
  },
  {
   "cell_type": "code",
   "execution_count": 126,
   "metadata": {},
   "outputs": [
    {
     "data": {
      "text/plain": [
       "array([[  1,   2,   3],\n",
       "       [  4,   5,   6],\n",
       "       [101, 102, 103],\n",
       "       [104, 105, 106]])"
      ]
     },
     "execution_count": 126,
     "metadata": {},
     "output_type": "execute_result"
    }
   ],
   "source": [
    "np.concatenate([grid1, grid2]) # default axis=0, row-wise concatenation"
   ]
  },
  {
   "cell_type": "code",
   "execution_count": 130,
   "metadata": {},
   "outputs": [
    {
     "data": {
      "text/plain": [
       "array([[  1,   2,   3, 101, 102, 103],\n",
       "       [  4,   5,   6, 104, 105, 106]])"
      ]
     },
     "execution_count": 130,
     "metadata": {},
     "output_type": "execute_result"
    }
   ],
   "source": [
    "np.concatenate([grid1, grid2], axis=1) # axis=1, column-wise concatenation"
   ]
  },
  {
   "cell_type": "code",
   "execution_count": 133,
   "metadata": {},
   "outputs": [
    {
     "data": {
      "text/plain": [
       "array([[  1,   3,   5],\n",
       "       [101, 102, 103],\n",
       "       [104, 105, 106]])"
      ]
     },
     "execution_count": 133,
     "metadata": {},
     "output_type": "execute_result"
    }
   ],
   "source": [
    "# np.vstack, np.hstack for mixed dimensions\n",
    "\n",
    "np.vstack([a, grid2])"
   ]
  },
  {
   "cell_type": "code",
   "execution_count": 137,
   "metadata": {},
   "outputs": [
    {
     "data": {
      "text/plain": [
       "array([[  1,   2,   3, 111],\n",
       "       [  4,   5,   6, 111]])"
      ]
     },
     "execution_count": 137,
     "metadata": {},
     "output_type": "execute_result"
    }
   ],
   "source": [
    "d = np.array([111, 111]).reshape(2, 1)\n",
    "np.hstack([grid1, d])"
   ]
  },
  {
   "cell_type": "code",
   "execution_count": 148,
   "metadata": {},
   "outputs": [
    {
     "data": {
      "text/plain": [
       "array([[[  1, 111],\n",
       "        [  2, 112],\n",
       "        [  3, 113]],\n",
       "\n",
       "       [[  4, 114],\n",
       "        [  5, 115],\n",
       "        [  6, 116]],\n",
       "\n",
       "       [[  7, 117],\n",
       "        [  8, 118],\n",
       "        [  9, 119]]])"
      ]
     },
     "execution_count": 148,
     "metadata": {},
     "output_type": "execute_result"
    }
   ],
   "source": [
    "grid3 = np.arange(1, 10).reshape(3, 3)\n",
    "e = np.arange(111, 120).reshape(3, 3)\n",
    "np.dstack([grid3, e])\n"
   ]
  },
  {
   "cell_type": "markdown",
   "metadata": {},
   "source": [
    "##### D.2: Array Splitting\n",
    "\n",
    "* $np.split, np.hsplit, np.vsplit$\n",
    "* For higher-dimensional arrays, $np.dsplit$ will split arrays along the 3rd axis.\n"
   ]
  },
  {
   "cell_type": "code",
   "execution_count": 153,
   "metadata": {},
   "outputs": [
    {
     "name": "stdout",
     "output_type": "stream",
     "text": [
      "[1 2] [ 3 69 69] [ 69 111 121] [131]\n"
     ]
    }
   ],
   "source": [
    "x = [1, 2, 3, 69, 69, 69, 111, 121, 131]\n",
    "x1, x2, x3, x4 = np.split(x, [2, 5, 8])\n",
    "print(x1, x2, x3, x4)"
   ]
  },
  {
   "cell_type": "code",
   "execution_count": 159,
   "metadata": {},
   "outputs": [
    {
     "data": {
      "text/plain": [
       "array([[ 0,  1,  2,  3,  4,  5],\n",
       "       [ 6,  7,  8,  9, 10, 11],\n",
       "       [12, 13, 14, 15, 16, 17],\n",
       "       [18, 19, 20, 21, 22, 23],\n",
       "       [24, 25, 26, 27, 28, 29],\n",
       "       [30, 31, 32, 33, 34, 35]])"
      ]
     },
     "execution_count": 159,
     "metadata": {},
     "output_type": "execute_result"
    }
   ],
   "source": [
    "grid = np.arange(36).reshape(6, 6)\n",
    "grid"
   ]
  },
  {
   "cell_type": "code",
   "execution_count": 162,
   "metadata": {},
   "outputs": [
    {
     "name": "stdout",
     "output_type": "stream",
     "text": [
      "[[ 0  1  2  3  4  5]\n",
      " [ 6  7  8  9 10 11]]\n",
      "[[12 13 14 15 16 17]\n",
      " [18 19 20 21 22 23]]\n",
      "[[24 25 26 27 28 29]\n",
      " [30 31 32 33 34 35]]\n"
     ]
    }
   ],
   "source": [
    "upper, middle, lower = np.vsplit(grid, [2, 4])\n",
    "print(upper)\n",
    "print(middle)\n",
    "print(lower)"
   ]
  },
  {
   "cell_type": "code",
   "execution_count": 163,
   "metadata": {},
   "outputs": [
    {
     "name": "stdout",
     "output_type": "stream",
     "text": [
      "[[ 0  1]\n",
      " [ 6  7]\n",
      " [12 13]\n",
      " [18 19]\n",
      " [24 25]\n",
      " [30 31]]\n",
      "[[ 2  3]\n",
      " [ 8  9]\n",
      " [14 15]\n",
      " [20 21]\n",
      " [26 27]\n",
      " [32 33]]\n",
      "[[ 4  5]\n",
      " [10 11]\n",
      " [16 17]\n",
      " [22 23]\n",
      " [28 29]\n",
      " [34 35]]\n"
     ]
    }
   ],
   "source": [
    "left, middle, right = np.hsplit(grid, [2, 4])\n",
    "print(left)\n",
    "print(middle)\n",
    "print(right)"
   ]
  },
  {
   "cell_type": "code",
   "execution_count": null,
   "metadata": {},
   "outputs": [],
   "source": []
  }
 ],
 "metadata": {
  "kernelspec": {
   "display_name": "Python 3",
   "language": "python",
   "name": "python3"
  },
  "language_info": {
   "codemirror_mode": {
    "name": "ipython",
    "version": 3
   },
   "file_extension": ".py",
   "mimetype": "text/x-python",
   "name": "python",
   "nbconvert_exporter": "python",
   "pygments_lexer": "ipython3",
   "version": "3.10.12"
  },
  "orig_nbformat": 4
 },
 "nbformat": 4,
 "nbformat_minor": 2
}
