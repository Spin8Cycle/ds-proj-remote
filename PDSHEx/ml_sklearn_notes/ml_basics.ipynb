{
 "cells": [
  {
   "cell_type": "markdown",
   "metadata": {},
   "source": [
    "# Machine Learning\n"
   ]
  },
  {
   "cell_type": "markdown",
   "metadata": {},
   "source": [
    "\n",
    "\n",
    "* $Supervised\\ Learning$:\n",
    "    * involves somehow modeling the relationship between measured features of data and **some labels** associated with the data; once this model is determined, it can be used to apply labels to new, unknown data.\n",
    "    * **Classification**\n",
    "        * The labels are DISCRETE categories.\n",
    "    * **Regression**\n",
    "        * The labels are CONTINUOUS quantities.\n",
    "* $Unsupervised\\ Learning$:\n",
    "    * involves modeling the features of a dataset without reference to any label.\n",
    "    * **Clustering**:\n",
    "        * Identify distinct groups of data\n",
    "    * **Dimensionality Reduction**:\n",
    "        * Search for more succinct representations of the data\n",
    "\n",
    "* $Semi-Supervised\\ Learning$:\n",
    "    * Often usefule when only incomplete labels are available\n"
   ]
  },
  {
   "cell_type": "code",
   "execution_count": null,
   "metadata": {},
   "outputs": [],
   "source": []
  }
 ],
 "metadata": {
  "language_info": {
   "name": "python"
  },
  "orig_nbformat": 4
 },
 "nbformat": 4,
 "nbformat_minor": 2
}
