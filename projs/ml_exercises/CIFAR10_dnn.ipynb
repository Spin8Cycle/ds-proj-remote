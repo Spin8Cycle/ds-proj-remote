{
 "cells": [
  {
   "cell_type": "markdown",
   "metadata": {},
   "source": [
    "# CFAR10"
   ]
  },
  {
   "cell_type": "code",
   "execution_count": 1,
   "metadata": {},
   "outputs": [],
   "source": [
    "import tensorflow as tf\n",
    "import numpy as np\n",
    "import pandas as pd\n",
    "import matplotlib.pyplot as plt\n",
    "from functools import partial"
   ]
  },
  {
   "cell_type": "code",
   "execution_count": 2,
   "metadata": {},
   "outputs": [],
   "source": [
    "import os\n",
    "os.environ['KMP_DUPLICATE_LIB_OK']='True'"
   ]
  },
  {
   "cell_type": "code",
   "execution_count": 3,
   "metadata": {},
   "outputs": [],
   "source": [
    "# Load the CIFAR10 dataset\n",
    "cifar10 = tf.keras.datasets.cifar10.load_data()\n",
    "\n",
    "(X_train_full, y_train_full), (X_test, y_test) = cifar10\n",
    "\n",
    "X_train = X_train_full[5000:]\n",
    "y_train = y_train_full[5000:]\n",
    "X_valid = X_train_full[:5000]\n",
    "y_valid = y_train_full[:5000]"
   ]
  },
  {
   "cell_type": "code",
   "execution_count": 4,
   "metadata": {},
   "outputs": [
    {
     "data": {
      "text/plain": [
       "(45000, 32, 32, 3)"
      ]
     },
     "execution_count": 4,
     "metadata": {},
     "output_type": "execute_result"
    }
   ],
   "source": [
    "X_train.shape"
   ]
  },
  {
   "cell_type": "code",
   "execution_count": 5,
   "metadata": {},
   "outputs": [
    {
     "data": {
      "text/plain": [
       "10"
      ]
     },
     "execution_count": 5,
     "metadata": {},
     "output_type": "execute_result"
    }
   ],
   "source": [
    "len(np.unique(y_train))"
   ]
  },
  {
   "cell_type": "markdown",
   "metadata": {},
   "source": [
    "##### Build a DNN :\n",
    "\n",
    "* 20 hidden layers , 100 neurons each\n",
    "* Swish Activation\n",
    "* He Initialization\n"
   ]
  },
  {
   "cell_type": "code",
   "execution_count": 6,
   "metadata": {},
   "outputs": [],
   "source": [
    "tf.random.set_seed(42)\n",
    "\n",
    "SwishHeDense = partial(\n",
    "    tf.keras.layers.Dense,\n",
    "    activation = \"swish\",\n",
    "    kernel_initializer=\"he_normal\"\n",
    ")\n",
    "\n",
    "model = tf.keras.Sequential()\n",
    "model.add(tf.keras.layers.Flatten(input_shape=[32, 32, 3]))\n",
    "for _ in range(20):\n",
    "    model.add(SwishHeDense(100))"
   ]
  },
  {
   "cell_type": "markdown",
   "metadata": {},
   "source": [
    "* Nadam Optimization\n",
    "* Early Stopping\n",
    "* Softmax Output layer"
   ]
  },
  {
   "cell_type": "code",
   "execution_count": 7,
   "metadata": {},
   "outputs": [],
   "source": [
    "model.add(tf.keras.layers.Dense(10, activation=\"softmax\"))"
   ]
  },
  {
   "cell_type": "code",
   "execution_count": 8,
   "metadata": {},
   "outputs": [],
   "source": [
    "optimizer = tf.keras.optimizers.Nadam(learning_rate=5e-5)\n",
    "model.compile(\n",
    "    loss = \"sparse_categorical_crossentropy\",\n",
    "    optimizer=optimizer,\n",
    "    metrics = ['accuracy']\n",
    ")"
   ]
  },
  {
   "cell_type": "code",
   "execution_count": 9,
   "metadata": {},
   "outputs": [],
   "source": [
    "from pathlib import Path"
   ]
  },
  {
   "cell_type": "code",
   "execution_count": 10,
   "metadata": {},
   "outputs": [],
   "source": [
    "early_stopping_cb = tf.keras.callbacks.EarlyStopping(patience=20,\n",
    "                                                     restore_best_weights=True)\n",
    "model_checkpoint_cb = tf.keras.callbacks.ModelCheckpoint(\"cifar10_model\",\n",
    "                                                         save_best_only=True)\n",
    "\n",
    "run_index = 1 # increment every time you train the model\n",
    "run_logdir = Path() / \"cifar10_logs\" / f\"run_{run_index:03d}\"\n",
    "tensorboard_cb = tf.keras.callbacks.TensorBoard(run_logdir)\n",
    "callbacks = [early_stopping_cb, model_checkpoint_cb, tensorboard_cb]"
   ]
  },
  {
   "cell_type": "code",
   "execution_count": 11,
   "metadata": {},
   "outputs": [],
   "source": [
    "#%load_ext tensorboard\n",
    "#%tensorboard --logdir=./cifar10_logs"
   ]
  },
  {
   "cell_type": "code",
   "execution_count": 12,
   "metadata": {},
   "outputs": [
    {
     "name": "stdout",
     "output_type": "stream",
     "text": [
      "Epoch 1/100\n",
      "1407/1407 [==============================] - ETA: 0s - loss: 5.2169 - accuracy: 0.1531INFO:tensorflow:Assets written to: cifar10_model\\assets\n",
      "1407/1407 [==============================] - 130s 78ms/step - loss: 5.2169 - accuracy: 0.1531 - val_loss: 2.3435 - val_accuracy: 0.1998\n",
      "Epoch 2/100\n",
      "1406/1407 [============================>.] - ETA: 0s - loss: 2.1353 - accuracy: 0.2291INFO:tensorflow:Assets written to: cifar10_model\\assets\n",
      "1407/1407 [==============================] - 61s 44ms/step - loss: 2.1353 - accuracy: 0.2291 - val_loss: 2.1840 - val_accuracy: 0.2090\n",
      "Epoch 3/100\n",
      "1405/1407 [============================>.] - ETA: 0s - loss: 1.9871 - accuracy: 0.2762INFO:tensorflow:Assets written to: cifar10_model\\assets\n",
      "1407/1407 [==============================] - 60s 43ms/step - loss: 1.9868 - accuracy: 0.2764 - val_loss: 2.0115 - val_accuracy: 0.2774\n",
      "Epoch 4/100\n",
      "1406/1407 [============================>.] - ETA: 0s - loss: 1.8995 - accuracy: 0.3096INFO:tensorflow:Assets written to: cifar10_model\\assets\n",
      "1407/1407 [==============================] - 65s 46ms/step - loss: 1.8996 - accuracy: 0.3096 - val_loss: 1.9432 - val_accuracy: 0.3064\n",
      "Epoch 5/100\n",
      "1406/1407 [============================>.] - ETA: 0s - loss: 1.8303 - accuracy: 0.3366INFO:tensorflow:Assets written to: cifar10_model\\assets\n",
      "1407/1407 [==============================] - 88s 63ms/step - loss: 1.8303 - accuracy: 0.3366 - val_loss: 1.8388 - val_accuracy: 0.3432\n",
      "Epoch 6/100\n",
      "1406/1407 [============================>.] - ETA: 0s - loss: 1.7772 - accuracy: 0.3572INFO:tensorflow:Assets written to: cifar10_model\\assets\n",
      "1407/1407 [==============================] - 63s 45ms/step - loss: 1.7772 - accuracy: 0.3571 - val_loss: 1.7933 - val_accuracy: 0.3510\n",
      "Epoch 7/100\n",
      "1405/1407 [============================>.] - ETA: 0s - loss: 1.7310 - accuracy: 0.3759INFO:tensorflow:Assets written to: cifar10_model\\assets\n",
      "1407/1407 [==============================] - 65s 46ms/step - loss: 1.7308 - accuracy: 0.3759 - val_loss: 1.7628 - val_accuracy: 0.3516\n",
      "Epoch 8/100\n",
      "1407/1407 [==============================] - ETA: 0s - loss: 1.6892 - accuracy: 0.3934INFO:tensorflow:Assets written to: cifar10_model\\assets\n",
      "1407/1407 [==============================] - 57s 40ms/step - loss: 1.6892 - accuracy: 0.3934 - val_loss: 1.6892 - val_accuracy: 0.3958\n",
      "Epoch 9/100\n",
      "1405/1407 [============================>.] - ETA: 0s - loss: 1.6560 - accuracy: 0.4044INFO:tensorflow:Assets written to: cifar10_model\\assets\n",
      "1407/1407 [==============================] - 58s 41ms/step - loss: 1.6557 - accuracy: 0.4044 - val_loss: 1.6728 - val_accuracy: 0.3950\n",
      "Epoch 10/100\n",
      "1407/1407 [==============================] - 43s 30ms/step - loss: 1.6260 - accuracy: 0.4172 - val_loss: 1.7162 - val_accuracy: 0.3842\n",
      "Epoch 11/100\n",
      "1407/1407 [==============================] - 43s 30ms/step - loss: 1.6024 - accuracy: 0.4223 - val_loss: 1.7343 - val_accuracy: 0.3708\n",
      "Epoch 12/100\n",
      "1406/1407 [============================>.] - ETA: 0s - loss: 1.5752 - accuracy: 0.4355INFO:tensorflow:Assets written to: cifar10_model\\assets\n",
      "1407/1407 [==============================] - 60s 43ms/step - loss: 1.5751 - accuracy: 0.4356 - val_loss: 1.6442 - val_accuracy: 0.4120\n",
      "Epoch 13/100\n",
      "1407/1407 [==============================] - 46s 33ms/step - loss: 1.5551 - accuracy: 0.4425 - val_loss: 1.6980 - val_accuracy: 0.3938\n",
      "Epoch 14/100\n",
      "1406/1407 [============================>.] - ETA: 0s - loss: 1.5376 - accuracy: 0.4481INFO:tensorflow:Assets written to: cifar10_model\\assets\n",
      "1407/1407 [==============================] - 59s 42ms/step - loss: 1.5377 - accuracy: 0.4480 - val_loss: 1.5887 - val_accuracy: 0.4206\n",
      "Epoch 15/100\n",
      "1406/1407 [============================>.] - ETA: 0s - loss: 1.5183 - accuracy: 0.4548INFO:tensorflow:Assets written to: cifar10_model\\assets\n",
      "1407/1407 [==============================] - 59s 42ms/step - loss: 1.5185 - accuracy: 0.4548 - val_loss: 1.5884 - val_accuracy: 0.4304\n",
      "Epoch 16/100\n",
      "1407/1407 [==============================] - ETA: 0s - loss: 1.4996 - accuracy: 0.4619INFO:tensorflow:Assets written to: cifar10_model\\assets\n",
      "1407/1407 [==============================] - 64s 46ms/step - loss: 1.4996 - accuracy: 0.4619 - val_loss: 1.5866 - val_accuracy: 0.4290\n",
      "Epoch 17/100\n",
      "1406/1407 [============================>.] - ETA: 0s - loss: 1.4843 - accuracy: 0.4675INFO:tensorflow:Assets written to: cifar10_model\\assets\n",
      "1407/1407 [==============================] - 68s 48ms/step - loss: 1.4842 - accuracy: 0.4676 - val_loss: 1.5614 - val_accuracy: 0.4372\n",
      "Epoch 18/100\n",
      "1407/1407 [==============================] - 57s 41ms/step - loss: 1.4649 - accuracy: 0.4740 - val_loss: 1.6105 - val_accuracy: 0.4302\n",
      "Epoch 19/100\n",
      "1407/1407 [==============================] - ETA: 0s - loss: 1.4550 - accuracy: 0.4790INFO:tensorflow:Assets written to: cifar10_model\\assets\n",
      "1407/1407 [==============================] - 80s 57ms/step - loss: 1.4550 - accuracy: 0.4790 - val_loss: 1.5581 - val_accuracy: 0.4412\n",
      "Epoch 20/100\n",
      "1407/1407 [==============================] - 59s 42ms/step - loss: 1.4430 - accuracy: 0.4826 - val_loss: 1.5650 - val_accuracy: 0.4410\n",
      "Epoch 21/100\n",
      "1407/1407 [==============================] - 63s 45ms/step - loss: 1.4303 - accuracy: 0.4874 - val_loss: 1.5784 - val_accuracy: 0.4352\n",
      "Epoch 22/100\n",
      "1406/1407 [============================>.] - ETA: 0s - loss: 1.4169 - accuracy: 0.4905INFO:tensorflow:Assets written to: cifar10_model\\assets\n",
      "1407/1407 [==============================] - 73s 52ms/step - loss: 1.4170 - accuracy: 0.4905 - val_loss: 1.5269 - val_accuracy: 0.4530\n",
      "Epoch 23/100\n",
      "1407/1407 [==============================] - 38s 27ms/step - loss: 1.4040 - accuracy: 0.4979 - val_loss: 1.5419 - val_accuracy: 0.4520\n",
      "Epoch 24/100\n",
      "1407/1407 [==============================] - 39s 28ms/step - loss: 1.3920 - accuracy: 0.4994 - val_loss: 1.5679 - val_accuracy: 0.4436\n",
      "Epoch 25/100\n",
      "1406/1407 [============================>.] - ETA: 0s - loss: 1.3804 - accuracy: 0.5070INFO:tensorflow:Assets written to: cifar10_model\\assets\n",
      "1407/1407 [==============================] - 54s 38ms/step - loss: 1.3803 - accuracy: 0.5070 - val_loss: 1.5205 - val_accuracy: 0.4608\n",
      "Epoch 26/100\n",
      "1407/1407 [==============================] - 40s 29ms/step - loss: 1.3676 - accuracy: 0.5104 - val_loss: 1.5882 - val_accuracy: 0.4334\n",
      "Epoch 27/100\n",
      "1405/1407 [============================>.] - ETA: 0s - loss: 1.3592 - accuracy: 0.5144INFO:tensorflow:Assets written to: cifar10_model\\assets\n",
      "1407/1407 [==============================] - 52s 37ms/step - loss: 1.3591 - accuracy: 0.5144 - val_loss: 1.5116 - val_accuracy: 0.4626\n",
      "Epoch 28/100\n",
      "1407/1407 [==============================] - 40s 28ms/step - loss: 1.3502 - accuracy: 0.5150 - val_loss: 1.5597 - val_accuracy: 0.4464\n",
      "Epoch 29/100\n",
      "1406/1407 [============================>.] - ETA: 0s - loss: 1.3413 - accuracy: 0.5188INFO:tensorflow:Assets written to: cifar10_model\\assets\n",
      "1407/1407 [==============================] - 56s 40ms/step - loss: 1.3414 - accuracy: 0.5188 - val_loss: 1.5099 - val_accuracy: 0.4602\n",
      "Epoch 30/100\n",
      "1407/1407 [==============================] - 40s 28ms/step - loss: 1.3313 - accuracy: 0.5250 - val_loss: 1.5814 - val_accuracy: 0.4428\n",
      "Epoch 31/100\n",
      "1407/1407 [==============================] - 39s 28ms/step - loss: 1.3182 - accuracy: 0.5279 - val_loss: 1.5663 - val_accuracy: 0.4492\n",
      "Epoch 32/100\n",
      "1407/1407 [==============================] - 40s 28ms/step - loss: 1.3142 - accuracy: 0.5285 - val_loss: 1.5314 - val_accuracy: 0.4570\n",
      "Epoch 33/100\n",
      "1407/1407 [==============================] - 37s 26ms/step - loss: 1.3012 - accuracy: 0.5332 - val_loss: 1.5832 - val_accuracy: 0.4528\n",
      "Epoch 34/100\n",
      "1407/1407 [==============================] - 37s 27ms/step - loss: 1.2953 - accuracy: 0.5378 - val_loss: 1.5289 - val_accuracy: 0.4636\n",
      "Epoch 35/100\n",
      "1407/1407 [==============================] - 37s 26ms/step - loss: 1.2799 - accuracy: 0.5424 - val_loss: 1.5669 - val_accuracy: 0.4590\n",
      "Epoch 36/100\n",
      "1407/1407 [==============================] - 37s 26ms/step - loss: 1.2756 - accuracy: 0.5445 - val_loss: 1.5393 - val_accuracy: 0.4604\n",
      "Epoch 37/100\n",
      "1407/1407 [==============================] - 38s 27ms/step - loss: 1.2640 - accuracy: 0.5469 - val_loss: 1.5128 - val_accuracy: 0.4630\n",
      "Epoch 38/100\n",
      "1407/1407 [==============================] - 38s 27ms/step - loss: 1.2569 - accuracy: 0.5485 - val_loss: 1.5331 - val_accuracy: 0.4618\n",
      "Epoch 39/100\n",
      "1407/1407 [==============================] - 36s 26ms/step - loss: 1.2486 - accuracy: 0.5510 - val_loss: 1.5340 - val_accuracy: 0.4618\n",
      "Epoch 40/100\n",
      "1407/1407 [==============================] - 38s 27ms/step - loss: 1.2433 - accuracy: 0.5552 - val_loss: 1.5252 - val_accuracy: 0.4660\n",
      "Epoch 41/100\n",
      "1407/1407 [==============================] - 37s 26ms/step - loss: 1.2351 - accuracy: 0.5573 - val_loss: 1.5657 - val_accuracy: 0.4580\n",
      "Epoch 42/100\n",
      "1407/1407 [==============================] - 37s 26ms/step - loss: 1.2294 - accuracy: 0.5608 - val_loss: 1.5244 - val_accuracy: 0.4708\n",
      "Epoch 43/100\n",
      "1407/1407 [==============================] - 36s 26ms/step - loss: 1.2217 - accuracy: 0.5639 - val_loss: 1.5271 - val_accuracy: 0.4672\n",
      "Epoch 44/100\n",
      "1407/1407 [==============================] - 36s 26ms/step - loss: 1.2144 - accuracy: 0.5674 - val_loss: 1.5832 - val_accuracy: 0.4564\n",
      "Epoch 45/100\n",
      "1407/1407 [==============================] - 40s 28ms/step - loss: 1.2031 - accuracy: 0.5674 - val_loss: 1.5512 - val_accuracy: 0.4626\n",
      "Epoch 46/100\n",
      "1407/1407 [==============================] - 39s 28ms/step - loss: 1.1978 - accuracy: 0.5704 - val_loss: 1.5346 - val_accuracy: 0.4708\n",
      "Epoch 47/100\n",
      "1407/1407 [==============================] - 37s 26ms/step - loss: 1.1908 - accuracy: 0.5726 - val_loss: 1.5717 - val_accuracy: 0.4652\n",
      "Epoch 48/100\n",
      "1407/1407 [==============================] - 38s 27ms/step - loss: 1.1809 - accuracy: 0.5761 - val_loss: 1.5406 - val_accuracy: 0.4680\n",
      "Epoch 49/100\n",
      "1407/1407 [==============================] - 36s 26ms/step - loss: 1.1745 - accuracy: 0.5794 - val_loss: 1.5485 - val_accuracy: 0.4640\n"
     ]
    },
    {
     "data": {
      "text/plain": [
       "<keras.callbacks.History at 0x1a7789ff370>"
      ]
     },
     "execution_count": 12,
     "metadata": {},
     "output_type": "execute_result"
    }
   ],
   "source": [
    "model.fit(X_train, y_train, \n",
    "          epochs=100,\n",
    "          validation_data=(X_valid, y_valid),\n",
    "          callbacks=callbacks)"
   ]
  },
  {
   "cell_type": "code",
   "execution_count": 13,
   "metadata": {},
   "outputs": [
    {
     "name": "stdout",
     "output_type": "stream",
     "text": [
      "157/157 [==============================] - 2s 13ms/step - loss: 1.5099 - accuracy: 0.4602\n"
     ]
    },
    {
     "data": {
      "text/plain": [
       "[1.509885311126709, 0.4602000117301941]"
      ]
     },
     "execution_count": 13,
     "metadata": {},
     "output_type": "execute_result"
    }
   ],
   "source": [
    "model.evaluate(X_valid, y_valid)"
   ]
  },
  {
   "cell_type": "markdown",
   "metadata": {},
   "source": [
    "* Add Batch Normalization"
   ]
  },
  {
   "cell_type": "code",
   "execution_count": 15,
   "metadata": {},
   "outputs": [
    {
     "name": "stdout",
     "output_type": "stream",
     "text": [
      "Epoch 1/100\n",
      "1406/1407 [============================>.] - ETA: 0s - loss: 2.0391 - accuracy: 0.2522INFO:tensorflow:Assets written to: cifar10_bn_model\\assets\n",
      "1407/1407 [==============================] - 106s 59ms/step - loss: 2.0391 - accuracy: 0.2521 - val_loss: 2.2831 - val_accuracy: 0.2122\n",
      "Epoch 2/100\n",
      "1407/1407 [==============================] - ETA: 0s - loss: 1.7758 - accuracy: 0.3606INFO:tensorflow:Assets written to: cifar10_bn_model\\assets\n",
      "1407/1407 [==============================] - 78s 55ms/step - loss: 1.7758 - accuracy: 0.3606 - val_loss: 1.9911 - val_accuracy: 0.3030\n",
      "Epoch 3/100\n",
      "1406/1407 [============================>.] - ETA: 0s - loss: 1.6773 - accuracy: 0.3998INFO:tensorflow:Assets written to: cifar10_bn_model\\assets\n",
      "1407/1407 [==============================] - 78s 55ms/step - loss: 1.6774 - accuracy: 0.3998 - val_loss: 1.7921 - val_accuracy: 0.3544\n",
      "Epoch 4/100\n",
      "1407/1407 [==============================] - ETA: 0s - loss: 1.6107 - accuracy: 0.4248INFO:tensorflow:Assets written to: cifar10_bn_model\\assets\n",
      "1407/1407 [==============================] - 75s 54ms/step - loss: 1.6107 - accuracy: 0.4248 - val_loss: 1.6584 - val_accuracy: 0.4020\n",
      "Epoch 5/100\n",
      "1406/1407 [============================>.] - ETA: 0s - loss: 1.5567 - accuracy: 0.4472INFO:tensorflow:Assets written to: cifar10_bn_model\\assets\n",
      "1407/1407 [==============================] - 82s 59ms/step - loss: 1.5567 - accuracy: 0.4472 - val_loss: 1.6249 - val_accuracy: 0.4262\n",
      "Epoch 6/100\n",
      "1407/1407 [==============================] - 52s 37ms/step - loss: 1.5082 - accuracy: 0.4628 - val_loss: 1.7285 - val_accuracy: 0.4024\n",
      "Epoch 7/100\n",
      "1407/1407 [==============================] - ETA: 0s - loss: 1.4589 - accuracy: 0.4828INFO:tensorflow:Assets written to: cifar10_bn_model\\assets\n",
      "1407/1407 [==============================] - 78s 56ms/step - loss: 1.4589 - accuracy: 0.4828 - val_loss: 1.5973 - val_accuracy: 0.4314\n",
      "Epoch 8/100\n",
      "1406/1407 [============================>.] - ETA: 0s - loss: 1.4229 - accuracy: 0.4967INFO:tensorflow:Assets written to: cifar10_bn_model\\assets\n",
      "1407/1407 [==============================] - 76s 54ms/step - loss: 1.4230 - accuracy: 0.4967 - val_loss: 1.5170 - val_accuracy: 0.4662\n",
      "Epoch 9/100\n",
      "1407/1407 [==============================] - 50s 36ms/step - loss: 1.3893 - accuracy: 0.5096 - val_loss: 1.5359 - val_accuracy: 0.4654\n",
      "Epoch 10/100\n",
      "1407/1407 [==============================] - ETA: 0s - loss: 1.3568 - accuracy: 0.5221INFO:tensorflow:Assets written to: cifar10_bn_model\\assets\n",
      "1407/1407 [==============================] - 81s 58ms/step - loss: 1.3568 - accuracy: 0.5221 - val_loss: 1.4961 - val_accuracy: 0.4780\n",
      "Epoch 11/100\n",
      "1407/1407 [==============================] - ETA: 0s - loss: 1.3327 - accuracy: 0.5288INFO:tensorflow:Assets written to: cifar10_bn_model\\assets\n",
      "1407/1407 [==============================] - 76s 54ms/step - loss: 1.3327 - accuracy: 0.5288 - val_loss: 1.4958 - val_accuracy: 0.4732\n",
      "Epoch 12/100\n",
      "1407/1407 [==============================] - 62s 44ms/step - loss: 1.2998 - accuracy: 0.5368 - val_loss: 1.6498 - val_accuracy: 0.4246\n",
      "Epoch 13/100\n",
      "1406/1407 [============================>.] - ETA: 0s - loss: 1.2741 - accuracy: 0.5508INFO:tensorflow:Assets written to: cifar10_bn_model\\assets\n",
      "1407/1407 [==============================] - 81s 58ms/step - loss: 1.2740 - accuracy: 0.5508 - val_loss: 1.4670 - val_accuracy: 0.4720\n",
      "Epoch 14/100\n",
      "1407/1407 [==============================] - 53s 38ms/step - loss: 1.2504 - accuracy: 0.5568 - val_loss: 1.4722 - val_accuracy: 0.4860\n",
      "Epoch 15/100\n",
      "1407/1407 [==============================] - 50s 35ms/step - loss: 1.2273 - accuracy: 0.5650 - val_loss: 1.6025 - val_accuracy: 0.4596\n",
      "Epoch 16/100\n",
      "1407/1407 [==============================] - 50s 35ms/step - loss: 1.2121 - accuracy: 0.5714 - val_loss: 1.4892 - val_accuracy: 0.4790\n",
      "Epoch 17/100\n",
      "1407/1407 [==============================] - ETA: 0s - loss: 1.1936 - accuracy: 0.5799INFO:tensorflow:Assets written to: cifar10_bn_model\\assets\n",
      "1407/1407 [==============================] - 77s 55ms/step - loss: 1.1936 - accuracy: 0.5799 - val_loss: 1.3977 - val_accuracy: 0.5062\n",
      "Epoch 18/100\n",
      "1407/1407 [==============================] - 51s 36ms/step - loss: 1.1692 - accuracy: 0.5897 - val_loss: 1.5362 - val_accuracy: 0.4652\n",
      "Epoch 19/100\n",
      "1407/1407 [==============================] - 48s 34ms/step - loss: 1.1543 - accuracy: 0.5915 - val_loss: 1.5541 - val_accuracy: 0.4648\n",
      "Epoch 20/100\n",
      "1407/1407 [==============================] - 49s 35ms/step - loss: 1.1354 - accuracy: 0.5995 - val_loss: 1.5460 - val_accuracy: 0.4776\n",
      "Epoch 21/100\n",
      "1407/1407 [==============================] - 49s 35ms/step - loss: 1.1184 - accuracy: 0.6054 - val_loss: 1.5191 - val_accuracy: 0.4836\n",
      "Epoch 22/100\n",
      "1407/1407 [==============================] - 51s 36ms/step - loss: 1.1013 - accuracy: 0.6124 - val_loss: 1.5305 - val_accuracy: 0.4772\n",
      "Epoch 23/100\n",
      "1407/1407 [==============================] - 48s 34ms/step - loss: 1.0928 - accuracy: 0.6158 - val_loss: 1.5334 - val_accuracy: 0.4732\n",
      "Epoch 24/100\n",
      "1407/1407 [==============================] - 49s 35ms/step - loss: 1.0755 - accuracy: 0.6197 - val_loss: 1.4149 - val_accuracy: 0.5146\n",
      "Epoch 25/100\n",
      "1407/1407 [==============================] - 49s 35ms/step - loss: 1.0623 - accuracy: 0.6250 - val_loss: 1.5355 - val_accuracy: 0.4850\n",
      "Epoch 26/100\n",
      "1407/1407 [==============================] - 48s 34ms/step - loss: 1.0483 - accuracy: 0.6305 - val_loss: 1.6369 - val_accuracy: 0.4682\n",
      "Epoch 27/100\n",
      "1407/1407 [==============================] - 50s 35ms/step - loss: 1.0309 - accuracy: 0.6388 - val_loss: 1.4762 - val_accuracy: 0.4970\n",
      "Epoch 28/100\n",
      "1407/1407 [==============================] - 49s 35ms/step - loss: 1.0224 - accuracy: 0.6403 - val_loss: 1.6512 - val_accuracy: 0.4658\n",
      "Epoch 29/100\n",
      "1407/1407 [==============================] - 48s 34ms/step - loss: 1.0125 - accuracy: 0.6428 - val_loss: 1.6594 - val_accuracy: 0.4486\n",
      "Epoch 30/100\n",
      "1407/1407 [==============================] - 49s 35ms/step - loss: 1.0044 - accuracy: 0.6444 - val_loss: 1.7192 - val_accuracy: 0.4608\n",
      "Epoch 31/100\n",
      "1407/1407 [==============================] - 54s 39ms/step - loss: 0.9845 - accuracy: 0.6522 - val_loss: 1.7302 - val_accuracy: 0.4580\n",
      "Epoch 32/100\n",
      "1407/1407 [==============================] - 49s 35ms/step - loss: 0.9736 - accuracy: 0.6551 - val_loss: 1.6359 - val_accuracy: 0.4752\n",
      "Epoch 33/100\n",
      "1407/1407 [==============================] - 50s 35ms/step - loss: 0.9583 - accuracy: 0.6620 - val_loss: 1.5358 - val_accuracy: 0.4988\n",
      "Epoch 34/100\n",
      "1407/1407 [==============================] - 48s 34ms/step - loss: 0.9530 - accuracy: 0.6641 - val_loss: 1.6209 - val_accuracy: 0.4774\n",
      "Epoch 35/100\n",
      "1407/1407 [==============================] - 47s 34ms/step - loss: 0.9398 - accuracy: 0.6698 - val_loss: 1.6247 - val_accuracy: 0.4766\n",
      "Epoch 36/100\n",
      "1407/1407 [==============================] - 57s 40ms/step - loss: 0.9378 - accuracy: 0.6694 - val_loss: 1.6383 - val_accuracy: 0.4740\n",
      "Epoch 37/100\n",
      "1407/1407 [==============================] - 72s 51ms/step - loss: 0.9207 - accuracy: 0.6771 - val_loss: 1.5687 - val_accuracy: 0.4980\n",
      "157/157 [==============================] - 3s 21ms/step - loss: 1.3977 - accuracy: 0.5062\n"
     ]
    },
    {
     "data": {
      "text/plain": [
       "[1.397704005241394, 0.5062000155448914]"
      ]
     },
     "execution_count": 15,
     "metadata": {},
     "output_type": "execute_result"
    }
   ],
   "source": [
    "tf.random.set_seed(42)\n",
    "\n",
    "model = tf.keras.Sequential()\n",
    "\n",
    "model.add(tf.keras.layers.Flatten(input_shape=[32, 32, 3]))\n",
    "for _ in range(20):\n",
    "    model.add(tf.keras.layers.Dense(100, kernel_initializer=\"he_normal\"))\n",
    "    model.add(tf.keras.layers.BatchNormalization())\n",
    "    model.add(tf.keras.layers.Activation(\"swish\"))\n",
    "\n",
    "model.add(tf.keras.layers.Dense(10, activation=\"softmax\"))\n",
    "\n",
    "optimizer = tf.keras.optimizers.Nadam(learning_rate=5e-4)\n",
    "model.compile(loss=\"sparse_categorical_crossentropy\",\n",
    "              optimizer=optimizer,\n",
    "              metrics=[\"accuracy\"])\n",
    "\n",
    "early_stopping_cb = tf.keras.callbacks.EarlyStopping(patience=20, restore_best_weights=True)\n",
    "model_checkpoint_cb = tf.keras.callbacks.ModelCheckpoint(\"cifar10_bn_model\", save_best_only=True)\n",
    "\n",
    "run_index = 1\n",
    "run_logdir = Path() / \"cifar10_logs\" / f\"run_bn_{run_index:03d}\"\n",
    "tensorboard_cb = tf.keras.callbacks.TensorBoard(run_logdir)\n",
    "callbacks = [early_stopping_cb, model_checkpoint_cb, tensorboard_cb]\n",
    "\n",
    "model.fit(X_train, y_train, \n",
    "          epochs=100,\n",
    "          validation_data=(X_valid, y_valid),\n",
    "          callbacks=callbacks)\n",
    "\n",
    "model.evaluate(X_valid, y_valid)"
   ]
  },
  {
   "cell_type": "markdown",
   "metadata": {},
   "source": [
    "* Replace Batch Normalization w/ SELU\n",
    "* Use LeCun Normal Initialization"
   ]
  },
  {
   "cell_type": "code",
   "execution_count": 16,
   "metadata": {},
   "outputs": [
    {
     "name": "stdout",
     "output_type": "stream",
     "text": [
      "Epoch 1/100\n",
      "1405/1407 [============================>.] - ETA: 0s - loss: 1.9250 - accuracy: 0.3093INFO:tensorflow:Assets written to: cifar10_selu_model\\assets\n",
      "1407/1407 [==============================] - 54s 31ms/step - loss: 1.9249 - accuracy: 0.3093 - val_loss: 1.8804 - val_accuracy: 0.3206\n",
      "Epoch 2/100\n",
      "1405/1407 [============================>.] - ETA: 0s - loss: 1.7118 - accuracy: 0.3915INFO:tensorflow:Assets written to: cifar10_selu_model\\assets\n",
      "1407/1407 [==============================] - 54s 39ms/step - loss: 1.7118 - accuracy: 0.3915 - val_loss: 1.7681 - val_accuracy: 0.3352\n",
      "Epoch 3/100\n",
      "1405/1407 [============================>.] - ETA: 0s - loss: 1.6143 - accuracy: 0.4294INFO:tensorflow:Assets written to: cifar10_selu_model\\assets\n",
      "1407/1407 [==============================] - 45s 32ms/step - loss: 1.6141 - accuracy: 0.4295 - val_loss: 1.6617 - val_accuracy: 0.4056\n",
      "Epoch 4/100\n",
      "1406/1407 [============================>.] - ETA: 0s - loss: 1.5460 - accuracy: 0.4519INFO:tensorflow:Assets written to: cifar10_selu_model\\assets\n",
      "1407/1407 [==============================] - 40s 29ms/step - loss: 1.5460 - accuracy: 0.4519 - val_loss: 1.6483 - val_accuracy: 0.4280\n",
      "Epoch 5/100\n",
      "1406/1407 [============================>.] - ETA: 0s - loss: 1.4875 - accuracy: 0.4757INFO:tensorflow:Assets written to: cifar10_selu_model\\assets\n",
      "1407/1407 [==============================] - 41s 29ms/step - loss: 1.4876 - accuracy: 0.4757 - val_loss: 1.5932 - val_accuracy: 0.4416\n",
      "Epoch 6/100\n",
      "1407/1407 [==============================] - ETA: 0s - loss: 1.4405 - accuracy: 0.4936INFO:tensorflow:Assets written to: cifar10_selu_model\\assets\n",
      "1407/1407 [==============================] - 46s 33ms/step - loss: 1.4405 - accuracy: 0.4936 - val_loss: 1.5230 - val_accuracy: 0.4636\n",
      "Epoch 7/100\n",
      "1407/1407 [==============================] - 35s 25ms/step - loss: 1.3996 - accuracy: 0.5090 - val_loss: 1.5244 - val_accuracy: 0.4712\n",
      "Epoch 8/100\n",
      "1407/1407 [==============================] - ETA: 0s - loss: 1.3639 - accuracy: 0.5225INFO:tensorflow:Assets written to: cifar10_selu_model\\assets\n",
      "1407/1407 [==============================] - 41s 29ms/step - loss: 1.3639 - accuracy: 0.5225 - val_loss: 1.4966 - val_accuracy: 0.4824\n",
      "Epoch 9/100\n",
      "1407/1407 [==============================] - 35s 25ms/step - loss: 1.3286 - accuracy: 0.5374 - val_loss: 1.4976 - val_accuracy: 0.4770\n",
      "Epoch 10/100\n",
      "1407/1407 [==============================] - 31s 22ms/step - loss: 1.2961 - accuracy: 0.5486 - val_loss: 1.5123 - val_accuracy: 0.4742\n",
      "Epoch 11/100\n",
      "1407/1407 [==============================] - 33s 24ms/step - loss: 1.2686 - accuracy: 0.5600 - val_loss: 1.5075 - val_accuracy: 0.4898\n",
      "Epoch 12/100\n",
      "1404/1407 [============================>.] - ETA: 0s - loss: 1.2428 - accuracy: 0.5688INFO:tensorflow:Assets written to: cifar10_selu_model\\assets\n",
      "1407/1407 [==============================] - 43s 31ms/step - loss: 1.2428 - accuracy: 0.5688 - val_loss: 1.4865 - val_accuracy: 0.4976\n",
      "Epoch 13/100\n",
      "1406/1407 [============================>.] - ETA: 0s - loss: 1.2148 - accuracy: 0.5793INFO:tensorflow:Assets written to: cifar10_selu_model\\assets\n",
      "1407/1407 [==============================] - 40s 29ms/step - loss: 1.2147 - accuracy: 0.5793 - val_loss: 1.4840 - val_accuracy: 0.5070\n",
      "Epoch 14/100\n",
      "1407/1407 [==============================] - 33s 24ms/step - loss: 1.1879 - accuracy: 0.5888 - val_loss: 1.5021 - val_accuracy: 0.5028\n",
      "Epoch 15/100\n",
      "1407/1407 [==============================] - 33s 23ms/step - loss: 1.1650 - accuracy: 0.5982 - val_loss: 1.5188 - val_accuracy: 0.4816\n",
      "Epoch 16/100\n",
      "1407/1407 [==============================] - 31s 22ms/step - loss: 1.1448 - accuracy: 0.6044 - val_loss: 1.5024 - val_accuracy: 0.5092\n",
      "Epoch 17/100\n",
      "1407/1407 [==============================] - 33s 23ms/step - loss: 1.1180 - accuracy: 0.6132 - val_loss: 1.5027 - val_accuracy: 0.4948\n",
      "Epoch 18/100\n",
      "1407/1407 [==============================] - 32s 23ms/step - loss: 1.0980 - accuracy: 0.6226 - val_loss: 1.5119 - val_accuracy: 0.4950\n",
      "Epoch 19/100\n",
      "1407/1407 [==============================] - 32s 23ms/step - loss: 1.0838 - accuracy: 0.6252 - val_loss: 1.5484 - val_accuracy: 0.5020\n",
      "Epoch 20/100\n",
      "1407/1407 [==============================] - 34s 24ms/step - loss: 1.0645 - accuracy: 0.6343 - val_loss: 1.5026 - val_accuracy: 0.5130\n",
      "Epoch 21/100\n",
      "1407/1407 [==============================] - 32s 23ms/step - loss: 1.0342 - accuracy: 0.6449 - val_loss: 1.5445 - val_accuracy: 0.5070\n",
      "Epoch 22/100\n",
      "1407/1407 [==============================] - 36s 25ms/step - loss: 1.0220 - accuracy: 0.6484 - val_loss: 1.5250 - val_accuracy: 0.5034\n",
      "Epoch 23/100\n",
      "1407/1407 [==============================] - 34s 24ms/step - loss: 1.0140 - accuracy: 0.6547 - val_loss: 1.5501 - val_accuracy: 0.4946\n",
      "Epoch 24/100\n",
      "1407/1407 [==============================] - 32s 23ms/step - loss: 0.9772 - accuracy: 0.6657 - val_loss: 1.5719 - val_accuracy: 0.5036\n",
      "Epoch 25/100\n",
      "1407/1407 [==============================] - 34s 24ms/step - loss: 0.9822 - accuracy: 0.6607 - val_loss: 1.6117 - val_accuracy: 0.5080\n",
      "Epoch 26/100\n",
      "1407/1407 [==============================] - 35s 25ms/step - loss: 0.9516 - accuracy: 0.6762 - val_loss: 1.5945 - val_accuracy: 0.5038\n",
      "Epoch 27/100\n",
      "1407/1407 [==============================] - 34s 24ms/step - loss: 0.9344 - accuracy: 0.6798 - val_loss: 1.6016 - val_accuracy: 0.5156\n",
      "Epoch 28/100\n",
      "1407/1407 [==============================] - 32s 23ms/step - loss: 0.9251 - accuracy: 0.6862 - val_loss: 1.5587 - val_accuracy: 0.4992\n",
      "Epoch 29/100\n",
      "1407/1407 [==============================] - 34s 24ms/step - loss: 0.9132 - accuracy: 0.6891 - val_loss: 1.6722 - val_accuracy: 0.5184\n",
      "Epoch 30/100\n",
      "1407/1407 [==============================] - 33s 23ms/step - loss: 0.9134 - accuracy: 0.6892 - val_loss: 1.6100 - val_accuracy: 0.5068\n",
      "Epoch 31/100\n",
      "1407/1407 [==============================] - 32s 23ms/step - loss: 0.8823 - accuracy: 0.7017 - val_loss: 1.5816 - val_accuracy: 0.5070\n",
      "Epoch 32/100\n",
      "1407/1407 [==============================] - 35s 25ms/step - loss: 0.8801 - accuracy: 0.7018 - val_loss: 1.6982 - val_accuracy: 0.5110\n",
      "Epoch 33/100\n",
      "1407/1407 [==============================] - 33s 23ms/step - loss: 0.8545 - accuracy: 0.7115 - val_loss: 1.6532 - val_accuracy: 0.5046\n",
      "157/157 [==============================] - 3s 19ms/step - loss: 1.4840 - accuracy: 0.5070\n"
     ]
    },
    {
     "data": {
      "text/plain": [
       "[1.4839905500411987, 0.5070000290870667]"
      ]
     },
     "execution_count": 16,
     "metadata": {},
     "output_type": "execute_result"
    }
   ],
   "source": [
    "tf.random.set_seed(42)\n",
    "\n",
    "model = tf.keras.Sequential()\n",
    "model.add(tf.keras.layers.Flatten(input_shape=[32, 32, 3]))\n",
    "for _ in range(20):\n",
    "    model.add(tf.keras.layers.Dense(100,\n",
    "                                    kernel_initializer=\"lecun_normal\",\n",
    "                                    activation=\"selu\"))\n",
    "\n",
    "model.add(tf.keras.layers.Dense(10, activation=\"softmax\"))\n",
    "\n",
    "optimizer = tf.keras.optimizers.Nadam(learning_rate=7e-4)\n",
    "model.compile(loss=\"sparse_categorical_crossentropy\",\n",
    "              optimizer=optimizer,\n",
    "              metrics=[\"accuracy\"])\n",
    "\n",
    "early_stopping_cb = tf.keras.callbacks.EarlyStopping(patience=20, restore_best_weights=True)\n",
    "model_checkpoint_cb = tf.keras.callbacks.ModelCheckpoint(\"cifar10_selu_model\", save_best_only=True)\n",
    "run_index = 1 \n",
    "run_logdir = Path() / \"cifar10_logs\" / f\"run_selu_{run_index:03d}\"\n",
    "tensorboard_cb = tf.keras.callbacks.TensorBoard(run_logdir)\n",
    "callbacks = [early_stopping_cb, model_checkpoint_cb, tensorboard_cb]\n",
    "\n",
    "X_means = X_train.mean(axis=0)\n",
    "X_stds = X_train.std(axis=0)\n",
    "X_train_scaled = (X_train - X_means) / X_stds\n",
    "X_valid_scaled = (X_valid - X_means) / X_stds\n",
    "X_test_scaled = (X_test - X_means) / X_stds\n",
    "\n",
    "model.fit(X_train_scaled, y_train, epochs=100,\n",
    "          validation_data=(X_valid_scaled, y_valid),\n",
    "          callbacks=callbacks)\n",
    "\n",
    "model.evaluate(X_valid_scaled, y_valid)"
   ]
  },
  {
   "cell_type": "markdown",
   "metadata": {},
   "source": [
    "* Regularize the model w/ alpha dropout"
   ]
  },
  {
   "cell_type": "code",
   "execution_count": 17,
   "metadata": {},
   "outputs": [
    {
     "name": "stdout",
     "output_type": "stream",
     "text": [
      "Epoch 1/100\n",
      "1406/1407 [============================>.] - ETA: 0s - loss: 1.9112 - accuracy: 0.3175INFO:tensorflow:Assets written to: cifar10_alpha_dropout_model\\assets\n",
      "1407/1407 [==============================] - 53s 31ms/step - loss: 1.9111 - accuracy: 0.3175 - val_loss: 1.7171 - val_accuracy: 0.3842\n",
      "Epoch 2/100\n",
      "1405/1407 [============================>.] - ETA: 0s - loss: 1.6696 - accuracy: 0.4104INFO:tensorflow:Assets written to: cifar10_alpha_dropout_model\\assets\n",
      "1407/1407 [==============================] - 46s 33ms/step - loss: 1.6697 - accuracy: 0.4104 - val_loss: 1.6957 - val_accuracy: 0.4052\n",
      "Epoch 3/100\n",
      "1405/1407 [============================>.] - ETA: 0s - loss: 1.5702 - accuracy: 0.4484INFO:tensorflow:Assets written to: cifar10_alpha_dropout_model\\assets\n",
      "1407/1407 [==============================] - 47s 33ms/step - loss: 1.5700 - accuracy: 0.4486 - val_loss: 1.6736 - val_accuracy: 0.4164\n",
      "Epoch 4/100\n",
      "1405/1407 [============================>.] - ETA: 0s - loss: 1.5056 - accuracy: 0.4707INFO:tensorflow:Assets written to: cifar10_alpha_dropout_model\\assets\n",
      "1407/1407 [==============================] - 41s 29ms/step - loss: 1.5057 - accuracy: 0.4706 - val_loss: 1.5666 - val_accuracy: 0.4572\n",
      "Epoch 5/100\n",
      "1407/1407 [==============================] - 38s 27ms/step - loss: 1.4525 - accuracy: 0.4906 - val_loss: 1.6405 - val_accuracy: 0.4514\n",
      "Epoch 6/100\n",
      "1405/1407 [============================>.] - ETA: 0s - loss: 1.4045 - accuracy: 0.5092INFO:tensorflow:Assets written to: cifar10_alpha_dropout_model\\assets\n",
      "1407/1407 [==============================] - 42s 30ms/step - loss: 1.4047 - accuracy: 0.5091 - val_loss: 1.5170 - val_accuracy: 0.4828\n",
      "Epoch 7/100\n",
      "1407/1407 [==============================] - 33s 23ms/step - loss: 1.3599 - accuracy: 0.5271 - val_loss: 1.5494 - val_accuracy: 0.4716\n",
      "Epoch 8/100\n",
      "1405/1407 [============================>.] - ETA: 0s - loss: 1.3197 - accuracy: 0.5407INFO:tensorflow:Assets written to: cifar10_alpha_dropout_model\\assets\n",
      "1407/1407 [==============================] - 40s 28ms/step - loss: 1.3197 - accuracy: 0.5408 - val_loss: 1.4745 - val_accuracy: 0.4970\n",
      "Epoch 9/100\n",
      "1407/1407 [==============================] - 35s 25ms/step - loss: 1.2814 - accuracy: 0.5571 - val_loss: 1.5451 - val_accuracy: 0.4826\n",
      "Epoch 10/100\n",
      "1407/1407 [==============================] - 32s 23ms/step - loss: 1.2528 - accuracy: 0.5653 - val_loss: 1.5513 - val_accuracy: 0.4948\n",
      "Epoch 11/100\n",
      "1407/1407 [==============================] - 33s 23ms/step - loss: 1.2184 - accuracy: 0.5775 - val_loss: 1.5197 - val_accuracy: 0.5068\n",
      "Epoch 12/100\n",
      "1407/1407 [==============================] - 31s 22ms/step - loss: 1.1855 - accuracy: 0.5901 - val_loss: 1.5417 - val_accuracy: 0.4986\n",
      "Epoch 13/100\n",
      "1407/1407 [==============================] - 34s 24ms/step - loss: 1.1606 - accuracy: 0.5987 - val_loss: 1.5987 - val_accuracy: 0.5004\n",
      "Epoch 14/100\n",
      "1407/1407 [==============================] - 33s 24ms/step - loss: 1.1315 - accuracy: 0.6101 - val_loss: 1.5408 - val_accuracy: 0.5196\n",
      "Epoch 15/100\n",
      "1407/1407 [==============================] - 34s 24ms/step - loss: 1.1049 - accuracy: 0.6209 - val_loss: 1.6337 - val_accuracy: 0.4968\n",
      "Epoch 16/100\n",
      "1407/1407 [==============================] - 32s 23ms/step - loss: 1.0831 - accuracy: 0.6274 - val_loss: 1.7040 - val_accuracy: 0.5100\n",
      "Epoch 17/100\n",
      "1407/1407 [==============================] - 34s 24ms/step - loss: 1.0591 - accuracy: 0.6368 - val_loss: 1.6386 - val_accuracy: 0.5160\n",
      "Epoch 18/100\n",
      "1407/1407 [==============================] - 34s 24ms/step - loss: 1.0361 - accuracy: 0.6464 - val_loss: 1.6255 - val_accuracy: 0.5148\n",
      "Epoch 19/100\n",
      "1407/1407 [==============================] - 34s 24ms/step - loss: 1.0165 - accuracy: 0.6520 - val_loss: 1.7210 - val_accuracy: 0.5202\n",
      "Epoch 20/100\n",
      "1407/1407 [==============================] - 34s 24ms/step - loss: 0.9928 - accuracy: 0.6589 - val_loss: 1.6785 - val_accuracy: 0.5128\n",
      "Epoch 21/100\n",
      "1407/1407 [==============================] - 33s 24ms/step - loss: 0.9727 - accuracy: 0.6690 - val_loss: 1.7226 - val_accuracy: 0.4994\n",
      "Epoch 22/100\n",
      "1407/1407 [==============================] - 33s 23ms/step - loss: 0.9543 - accuracy: 0.6717 - val_loss: 1.8101 - val_accuracy: 0.5122\n",
      "Epoch 23/100\n",
      "1407/1407 [==============================] - 33s 24ms/step - loss: 0.9343 - accuracy: 0.6825 - val_loss: 1.6969 - val_accuracy: 0.5104\n",
      "Epoch 24/100\n",
      "1407/1407 [==============================] - 34s 24ms/step - loss: 0.9140 - accuracy: 0.6888 - val_loss: 1.7993 - val_accuracy: 0.5068\n",
      "Epoch 25/100\n",
      "1407/1407 [==============================] - 32s 23ms/step - loss: 0.9031 - accuracy: 0.6914 - val_loss: 1.7478 - val_accuracy: 0.5044\n",
      "Epoch 26/100\n",
      "1407/1407 [==============================] - 32s 23ms/step - loss: 0.8891 - accuracy: 0.6972 - val_loss: 1.8368 - val_accuracy: 0.5092\n",
      "Epoch 27/100\n",
      "1407/1407 [==============================] - 33s 23ms/step - loss: 0.8695 - accuracy: 0.7061 - val_loss: 1.7670 - val_accuracy: 0.5014\n",
      "Epoch 28/100\n",
      "1407/1407 [==============================] - 35s 25ms/step - loss: 0.8543 - accuracy: 0.7101 - val_loss: 1.7910 - val_accuracy: 0.5052\n",
      "157/157 [==============================] - 2s 14ms/step - loss: 1.4745 - accuracy: 0.4970\n"
     ]
    },
    {
     "data": {
      "text/plain": [
       "[1.4744670391082764, 0.4970000088214874]"
      ]
     },
     "execution_count": 17,
     "metadata": {},
     "output_type": "execute_result"
    }
   ],
   "source": [
    "tf.random.set_seed(42)\n",
    "\n",
    "model = tf.keras.Sequential()\n",
    "model.add(tf.keras.layers.Flatten(input_shape=[32, 32, 3]))\n",
    "for _ in range(20):\n",
    "    model.add(tf.keras.layers.Dense(100,\n",
    "                                    kernel_initializer=\"lecun_normal\",\n",
    "                                    activation=\"selu\"))\n",
    "\n",
    "model.add(tf.keras.layers.AlphaDropout(rate=0.1))\n",
    "model.add(tf.keras.layers.Dense(10, activation=\"softmax\"))\n",
    "\n",
    "optimizer = tf.keras.optimizers.Nadam(learning_rate=5e-4)\n",
    "model.compile(loss=\"sparse_categorical_crossentropy\",\n",
    "              optimizer=optimizer,\n",
    "              metrics=[\"accuracy\"])\n",
    "\n",
    "early_stopping_cb = tf.keras.callbacks.EarlyStopping(patience=20, restore_best_weights=True)\n",
    "model_checkpoint_cb = tf.keras.callbacks.ModelCheckpoint( \"cifar10_alpha_dropout_model\", save_best_only=True)\n",
    "run_index = 1 \n",
    "run_logdir = Path() / \"cifar10_logs\" / f\"run_alpha_dropout_{run_index:03d}\"\n",
    "tensorboard_cb = tf.keras.callbacks.TensorBoard(run_logdir)\n",
    "callbacks = [early_stopping_cb, model_checkpoint_cb, tensorboard_cb]\n",
    "\n",
    "X_means = X_train.mean(axis=0)\n",
    "X_stds = X_train.std(axis=0)\n",
    "X_train_scaled = (X_train - X_means) / X_stds\n",
    "X_valid_scaled = (X_valid - X_means) / X_stds\n",
    "X_test_scaled = (X_test - X_means) / X_stds\n",
    "\n",
    "model.fit(X_train_scaled, y_train, \n",
    "          epochs=100,\n",
    "          validation_data=(X_valid_scaled, y_valid),\n",
    "          callbacks=callbacks)\n",
    "\n",
    "model.evaluate(X_valid_scaled, y_valid)"
   ]
  },
  {
   "cell_type": "markdown",
   "metadata": {},
   "source": [
    "* MCDropOut"
   ]
  },
  {
   "cell_type": "code",
   "execution_count": 18,
   "metadata": {},
   "outputs": [],
   "source": [
    "class MCAlphaDropout(tf.keras.layers.AlphaDropout):\n",
    "    def call(self, inputs):\n",
    "        return super().call(inputs, training=True)\n",
    "    \n",
    "mc_model = tf.keras.Sequential([\n",
    "    (\n",
    "        MCAlphaDropout(layer.rate)\n",
    "        if isinstance(layer, tf.keras.layers.AlphaDropout)\n",
    "        else layer\n",
    "    )\n",
    "    for layer in model.layers\n",
    "])"
   ]
  },
  {
   "cell_type": "code",
   "execution_count": 19,
   "metadata": {},
   "outputs": [],
   "source": [
    "def mc_dropout_predict_probas(mc_model, X, n_samples=10):\n",
    "    Y_probas = [mc_model.predict(X) for sample in range(n_samples)]\n",
    "    return np.mean(Y_probas, axis=0)\n",
    "\n",
    "def mc_dropout_predict_classes(mc_model, X, n_samples=10):\n",
    "    Y_probas = mc_dropout_predict_probas(mc_model, X, n_samples)\n",
    "    return Y_probas.argmax(axis=1)"
   ]
  },
  {
   "cell_type": "code",
   "execution_count": 20,
   "metadata": {},
   "outputs": [
    {
     "name": "stdout",
     "output_type": "stream",
     "text": [
      "157/157 [==============================] - 2s 13ms/step\n",
      "157/157 [==============================] - 2s 11ms/step\n",
      "157/157 [==============================] - 2s 13ms/step\n",
      "157/157 [==============================] - 2s 14ms/step\n",
      "157/157 [==============================] - 2s 14ms/step\n",
      "157/157 [==============================] - 2s 15ms/step\n",
      "157/157 [==============================] - 2s 12ms/step\n",
      "157/157 [==============================] - 2s 12ms/step\n",
      "157/157 [==============================] - 2s 13ms/step\n",
      "157/157 [==============================] - 2s 15ms/step\n"
     ]
    },
    {
     "data": {
      "text/plain": [
       "0.4978"
      ]
     },
     "execution_count": 20,
     "metadata": {},
     "output_type": "execute_result"
    }
   ],
   "source": [
    "tf.random.set_seed(42)\n",
    "\n",
    "y_pred = mc_dropout_predict_classes(mc_model, X_valid_scaled)\n",
    "accuracy = (y_pred == y_valid[:, 0]).mean()\n",
    "accuracy"
   ]
  },
  {
   "cell_type": "markdown",
   "metadata": {},
   "source": [
    "* Use 1cycleScheduler"
   ]
  },
  {
   "cell_type": "code",
   "execution_count": 25,
   "metadata": {},
   "outputs": [],
   "source": [
    "K = tf.keras.backend\n",
    "class OneCycleScheduler(tf.keras.callbacks.Callback):\n",
    "    def __init__(self, iterations, max_lr=1e-3, start_lr=None,\n",
    "                 last_iterations=None, last_lr=None):\n",
    "        self.iterations = iterations\n",
    "        self.max_lr = max_lr\n",
    "        self.start_lr = start_lr or max_lr / 10\n",
    "        self.last_iterations = last_iterations or iterations // 10 + 1\n",
    "        self.half_iteration = (iterations - self.last_iterations) // 2\n",
    "        self.last_lr = last_lr or self.start_lr / 1000\n",
    "        self.iteration = 0\n",
    "\n",
    "    def _interpolate(self, iter1, iter2, lr1, lr2):\n",
    "        return (lr2 - lr1) * (self.iteration - iter1) / (iter2 - iter1) + lr1\n",
    "\n",
    "    def on_batch_begin(self, batch, logs):\n",
    "        if self.iteration < self.half_iteration:\n",
    "            lr = self._interpolate(0, self.half_iteration, self.start_lr,\n",
    "                                   self.max_lr)\n",
    "        elif self.iteration < 2 * self.half_iteration:\n",
    "            lr = self._interpolate(self.half_iteration, 2 * self.half_iteration,\n",
    "                                   self.max_lr, self.start_lr)\n",
    "        else:\n",
    "            lr = self._interpolate(2 * self.half_iteration, self.iterations,\n",
    "                                   self.start_lr, self.last_lr)\n",
    "        self.iteration += 1\n",
    "        K.set_value(self.model.optimizer.learning_rate, lr)"
   ]
  },
  {
   "cell_type": "code",
   "execution_count": 26,
   "metadata": {},
   "outputs": [],
   "source": [
    "class ExponentialLearningRate(tf.keras.callbacks.Callback):\n",
    "    def __init__(self, factor):\n",
    "        self.factor = factor\n",
    "        self.rates = []\n",
    "        self.losses = []\n",
    "\n",
    "    def on_epoch_begin(self, epoch, logs=None):\n",
    "        self.sum_of_epoch_losses = 0\n",
    "\n",
    "    def on_batch_end(self, batch, logs=None):\n",
    "        mean_epoch_loss = logs[\"loss\"]  # the epoch's mean loss so far \n",
    "        new_sum_of_epoch_losses = mean_epoch_loss * (batch + 1)\n",
    "        batch_loss = new_sum_of_epoch_losses - self.sum_of_epoch_losses\n",
    "        self.sum_of_epoch_losses = new_sum_of_epoch_losses\n",
    "        self.rates.append(K.get_value(self.model.optimizer.learning_rate))\n",
    "        self.losses.append(batch_loss)\n",
    "        K.set_value(self.model.optimizer.learning_rate,\n",
    "                    self.model.optimizer.learning_rate * self.factor)"
   ]
  },
  {
   "cell_type": "code",
   "execution_count": 27,
   "metadata": {},
   "outputs": [],
   "source": [
    "import math\n",
    "\n",
    "def find_learning_rate(model, X, y, epochs=1, batch_size=32, min_rate=1e-4,\n",
    "                       max_rate=1):\n",
    "    init_weights = model.get_weights()\n",
    "    iterations = math.ceil(len(X) / batch_size) * epochs\n",
    "    factor = (max_rate / min_rate) ** (1 / iterations)\n",
    "    init_lr = K.get_value(model.optimizer.learning_rate)\n",
    "    K.set_value(model.optimizer.learning_rate, min_rate)\n",
    "    exp_lr = ExponentialLearningRate(factor)\n",
    "    history = model.fit(X, y, epochs=epochs, batch_size=batch_size,\n",
    "                        callbacks=[exp_lr])\n",
    "    K.set_value(model.optimizer.learning_rate, init_lr)\n",
    "    model.set_weights(init_weights)\n",
    "    return exp_lr.rates, exp_lr.losses\n",
    "\n",
    "def plot_lr_vs_loss(rates, losses):\n",
    "    plt.plot(rates, losses, \"b\")\n",
    "    plt.gca().set_xscale('log')\n",
    "    max_loss = losses[0] + min(losses)\n",
    "    plt.hlines(min(losses), min(rates), max(rates), color=\"k\")\n",
    "    plt.axis([min(rates), max(rates), 0, max_loss])\n",
    "    plt.xlabel(\"Learning rate\")\n",
    "    plt.ylabel(\"Loss\")\n",
    "    plt.grid()"
   ]
  },
  {
   "cell_type": "code",
   "execution_count": 28,
   "metadata": {},
   "outputs": [],
   "source": [
    "tf.random.set_seed(42)\n",
    "\n",
    "model = tf.keras.Sequential()\n",
    "model.add(tf.keras.layers.Flatten(input_shape=[32, 32, 3]))\n",
    "for _ in range(20):\n",
    "    model.add(tf.keras.layers.Dense(100,\n",
    "                                    kernel_initializer=\"lecun_normal\",\n",
    "                                    activation=\"selu\"))\n",
    "\n",
    "model.add(tf.keras.layers.AlphaDropout(rate=0.1))\n",
    "model.add(tf.keras.layers.Dense(10, activation=\"softmax\"))\n",
    "\n",
    "optimizer = tf.keras.optimizers.SGD()\n",
    "model.compile(loss=\"sparse_categorical_crossentropy\",\n",
    "              optimizer=optimizer,\n",
    "              metrics=[\"accuracy\"])"
   ]
  },
  {
   "cell_type": "code",
   "execution_count": 29,
   "metadata": {},
   "outputs": [
    {
     "name": "stdout",
     "output_type": "stream",
     "text": [
      "352/352 [==============================] - 12s 26ms/step - loss: nan - accuracy: 0.1732\n"
     ]
    },
    {
     "data": {
      "image/png": "[encoded data removed]",
      "text/plain": [
       "<Figure size 640x480 with 1 Axes>"
      ]
     },
     "metadata": {},
     "output_type": "display_data"
    }
   ],
   "source": [
    "batch_size = 128\n",
    "rates, losses = find_learning_rate(model, X_train_scaled, y_train, epochs=1,\n",
    "                                   batch_size=batch_size)\n",
    "plot_lr_vs_loss(rates, losses)"
   ]
  },
  {
   "cell_type": "code",
   "execution_count": 30,
   "metadata": {},
   "outputs": [],
   "source": [
    "tf.random.set_seed(42)\n",
    "\n",
    "model = tf.keras.Sequential()\n",
    "model.add(tf.keras.layers.Flatten(input_shape=[32, 32, 3]))\n",
    "for _ in range(20):\n",
    "    model.add(tf.keras.layers.Dense(100,\n",
    "                                 kernel_initializer=\"lecun_normal\",\n",
    "                                 activation=\"selu\"))\n",
    "\n",
    "model.add(tf.keras.layers.AlphaDropout(rate=0.1))\n",
    "model.add(tf.keras.layers.Dense(10, activation=\"softmax\"))\n",
    "\n",
    "optimizer = tf.keras.optimizers.SGD(learning_rate=2e-2)\n",
    "model.compile(loss=\"sparse_categorical_crossentropy\",\n",
    "              optimizer=optimizer,\n",
    "              metrics=[\"accuracy\"])"
   ]
  },
  {
   "cell_type": "code",
   "execution_count": 31,
   "metadata": {},
   "outputs": [
    {
     "name": "stdout",
     "output_type": "stream",
     "text": [
      "Epoch 1/15\n",
      "352/352 [==============================] - 9s 20ms/step - loss: 2.0562 - accuracy: 0.2847 - val_loss: 1.7639 - val_accuracy: 0.3830\n",
      "Epoch 2/15\n",
      "352/352 [==============================] - 7s 20ms/step - loss: 1.7468 - accuracy: 0.3831 - val_loss: 1.6203 - val_accuracy: 0.4250\n",
      "Epoch 3/15\n",
      "352/352 [==============================] - 9s 26ms/step - loss: 1.6126 - accuracy: 0.4293 - val_loss: 1.6629 - val_accuracy: 0.4266\n",
      "Epoch 4/15\n",
      "352/352 [==============================] - 6s 17ms/step - loss: 1.5377 - accuracy: 0.4581 - val_loss: 1.6860 - val_accuracy: 0.4184\n",
      "Epoch 5/15\n",
      "352/352 [==============================] - 7s 19ms/step - loss: 1.4896 - accuracy: 0.4743 - val_loss: 1.6208 - val_accuracy: 0.4438\n",
      "Epoch 6/15\n",
      "352/352 [==============================] - 8s 23ms/step - loss: 1.4488 - accuracy: 0.4864 - val_loss: 1.6076 - val_accuracy: 0.4428\n",
      "Epoch 7/15\n",
      "352/352 [==============================] - 6s 18ms/step - loss: 1.4089 - accuracy: 0.5031 - val_loss: 1.5911 - val_accuracy: 0.4606\n",
      "Epoch 8/15\n",
      "352/352 [==============================] - 7s 19ms/step - loss: 1.3450 - accuracy: 0.5248 - val_loss: 1.5018 - val_accuracy: 0.4800\n",
      "Epoch 9/15\n",
      "352/352 [==============================] - 6s 18ms/step - loss: 1.2674 - accuracy: 0.5511 - val_loss: 1.5589 - val_accuracy: 0.4698\n",
      "Epoch 10/15\n",
      "352/352 [==============================] - 6s 17ms/step - loss: 1.1933 - accuracy: 0.5763 - val_loss: 1.5429 - val_accuracy: 0.5034\n",
      "Epoch 11/15\n",
      "352/352 [==============================] - 6s 18ms/step - loss: 1.1260 - accuracy: 0.5999 - val_loss: 1.5511 - val_accuracy: 0.5030\n",
      "Epoch 12/15\n",
      "352/352 [==============================] - 6s 18ms/step - loss: 1.0565 - accuracy: 0.6208 - val_loss: 1.5291 - val_accuracy: 0.5168\n",
      "Epoch 13/15\n",
      "352/352 [==============================] - 7s 19ms/step - loss: 0.9866 - accuracy: 0.6481 - val_loss: 1.5640 - val_accuracy: 0.5212\n",
      "Epoch 14/15\n",
      "352/352 [==============================] - 7s 21ms/step - loss: 0.9206 - accuracy: 0.6735 - val_loss: 1.5966 - val_accuracy: 0.5232\n",
      "Epoch 15/15\n",
      "352/352 [==============================] - 6s 18ms/step - loss: 0.8776 - accuracy: 0.6897 - val_loss: 1.6299 - val_accuracy: 0.5212\n"
     ]
    }
   ],
   "source": [
    "n_epochs = 15\n",
    "n_iterations = math.ceil(len(X_train_scaled) / batch_size) * n_epochs\n",
    "onecycle = OneCycleScheduler(n_iterations, max_lr=0.05)\n",
    "history = model.fit(X_train_scaled, y_train, epochs=n_epochs, batch_size=batch_size,\n",
    "                    validation_data=(X_valid_scaled, y_valid),\n",
    "                    callbacks=[onecycle])"
   ]
  },
  {
   "cell_type": "code",
   "execution_count": null,
   "metadata": {},
   "outputs": [],
   "source": []
  }
 ],
 "metadata": {
  "kernelspec": {
   "display_name": "ds_ml_dl",
   "language": "python",
   "name": "python3"
  },
  "language_info": {
   "codemirror_mode": {
    "name": "ipython",
    "version": 3
   },
   "file_extension": ".py",
   "mimetype": "text/x-python",
   "name": "python",
   "nbconvert_exporter": "python",
   "pygments_lexer": "ipython3",
   "version": "3.10.13"
  }
 },
 "nbformat": 4,
 "nbformat_minor": 2
}
