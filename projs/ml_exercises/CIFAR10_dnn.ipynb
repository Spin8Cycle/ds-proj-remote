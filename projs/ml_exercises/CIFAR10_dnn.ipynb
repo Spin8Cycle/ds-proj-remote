{
 "cells": [
  {
   "cell_type": "markdown",
   "metadata": {},
   "source": [
    "# CFAR10"
   ]
  },
  {
   "cell_type": "code",
   "execution_count": 1,
   "metadata": {},
   "outputs": [],
   "source": [
    "import tensorflow as tf\n",
    "import numpy as np\n",
    "import pandas as pd\n",
    "import matplotlib.pyplot as plt\n",
    "from functools import partial"
   ]
  },
  {
   "cell_type": "code",
   "execution_count": 2,
   "metadata": {},
   "outputs": [],
   "source": [
    "import os\n",
    "os.environ['KMP_DUPLICATE_LIB_OK']='True'"
   ]
  },
  {
   "cell_type": "code",
   "execution_count": 3,
   "metadata": {},
   "outputs": [],
   "source": [
    "# Load the CIFAR10 dataset\n",
    "cifar10 = tf.keras.datasets.cifar10.load_data()\n",
    "\n",
    "(X_train_full, y_train_full), (X_test, y_test) = cifar10\n",
    "\n",
    "X_train = X_train_full[5000:]\n",
    "y_train = y_train_full[5000:]\n",
    "X_valid = X_train_full[:5000]\n",
    "y_valid = y_train_full[:5000]"
   ]
  },
  {
   "cell_type": "code",
   "execution_count": 4,
   "metadata": {},
   "outputs": [
    {
     "data": {
      "text/plain": [
       "(45000, 32, 32, 3)"
      ]
     },
     "execution_count": 4,
     "metadata": {},
     "output_type": "execute_result"
    }
   ],
   "source": [
    "X_train.shape"
   ]
  },
  {
   "cell_type": "code",
   "execution_count": 5,
   "metadata": {},
   "outputs": [
    {
     "data": {
      "text/plain": [
       "10"
      ]
     },
     "execution_count": 5,
     "metadata": {},
     "output_type": "execute_result"
    }
   ],
   "source": [
    "len(np.unique(y_train))"
   ]
  },
  {
   "cell_type": "markdown",
   "metadata": {},
   "source": [
    "##### Build a DNN :\n",
    "\n",
    "* 20 hidden layers , 100 neurons each\n",
    "* Swish Activation\n",
    "* He Initialization\n"
   ]
  },
  {
   "cell_type": "code",
   "execution_count": 6,
   "metadata": {},
   "outputs": [],
   "source": [
    "tf.random.set_seed(42)\n",
    "\n",
    "SwishHeDense = partial(\n",
    "    tf.keras.layers.Dense,\n",
    "    activation = \"swish\",\n",
    "    kernel_initializer=\"he_normal\"\n",
    ")\n",
    "\n",
    "model = tf.keras.Sequential()\n",
    "model.add(tf.keras.layers.Flatten(input_shape=[32, 32, 3]))\n",
    "for _ in range(20):\n",
    "    model.add(SwishHeDense(100))"
   ]
  },
  {
   "cell_type": "markdown",
   "metadata": {},
   "source": [
    "* Nadam Optimization\n",
    "* Early Stopping\n",
    "* Softmax Output layer"
   ]
  },
  {
   "cell_type": "code",
   "execution_count": 7,
   "metadata": {},
   "outputs": [],
   "source": [
    "model.add(tf.keras.layers.Dense(10, activation=\"softmax\"))"
   ]
  },
  {
   "cell_type": "code",
   "execution_count": 8,
   "metadata": {},
   "outputs": [],
   "source": [
    "optimizer = tf.keras.optimizers.Nadam(learning_rate=5e-5)\n",
    "model.compile(\n",
    "    loss = \"sparse_categorical_crossentropy\",\n",
    "    optimizer=optimizer,\n",
    "    metrics = ['accuracy']\n",
    ")"
   ]
  },
  {
   "cell_type": "code",
   "execution_count": 9,
   "metadata": {},
   "outputs": [],
   "source": [
    "from pathlib import Path"
   ]
  },
  {
   "cell_type": "code",
   "execution_count": 10,
   "metadata": {},
   "outputs": [],
   "source": [
    "early_stopping_cb = tf.keras.callbacks.EarlyStopping(patience=20,\n",
    "                                                     restore_best_weights=True)\n",
    "model_checkpoint_cb = tf.keras.callbacks.ModelCheckpoint(\"cifar10_model\",\n",
    "                                                         save_best_only=True)\n",
    "\n",
    "run_index = 1 # increment every time you train the model\n",
    "run_logdir = Path() / \"cifar10_logs\" / f\"run_{run_index:03d}\"\n",
    "tensorboard_cb = tf.keras.callbacks.TensorBoard(run_logdir)\n",
    "callbacks = [early_stopping_cb, model_checkpoint_cb, tensorboard_cb]"
   ]
  },
  {
   "cell_type": "code",
   "execution_count": 12,
   "metadata": {},
   "outputs": [],
   "source": [
    "#%load_ext tensorboard\n",
    "#%tensorboard --logdir=./cifar10_logs"
   ]
  },
  {
   "cell_type": "code",
   "execution_count": 13,
   "metadata": {},
   "outputs": [
    {
     "name": "stdout",
     "output_type": "stream",
     "text": [
      "Epoch 1/100\n",
      "1407/1407 [==============================] - ETA: 0s - loss: 4.8990 - accuracy: 0.1556INFO:tensorflow:Assets written to: cifar10_model\\assets\n",
      "1407/1407 [==============================] - 69s 41ms/step - loss: 4.8990 - accuracy: 0.1556 - val_loss: 2.1209 - val_accuracy: 0.2126\n",
      "Epoch 2/100\n",
      "1406/1407 [============================>.] - ETA: 0s - loss: 2.0521 - accuracy: 0.2396INFO:tensorflow:Assets written to: cifar10_model\\assets\n",
      "1407/1407 [==============================] - 54s 38ms/step - loss: 2.0520 - accuracy: 0.2396 - val_loss: 2.0103 - val_accuracy: 0.2500\n",
      "Epoch 3/100\n",
      "1406/1407 [============================>.] - ETA: 0s - loss: 1.9453 - accuracy: 0.2834INFO:tensorflow:Assets written to: cifar10_model\\assets\n",
      "1407/1407 [==============================] - 53s 37ms/step - loss: 1.9452 - accuracy: 0.2834 - val_loss: 1.9279 - val_accuracy: 0.2864\n",
      "Epoch 4/100\n",
      "1407/1407 [==============================] - ETA: 0s - loss: 1.8756 - accuracy: 0.3107INFO:tensorflow:Assets written to: cifar10_model\\assets\n",
      "1407/1407 [==============================] - 54s 39ms/step - loss: 1.8756 - accuracy: 0.3107 - val_loss: 1.9115 - val_accuracy: 0.3090\n",
      "Epoch 5/100\n",
      "1405/1407 [============================>.] - ETA: 0s - loss: 1.8160 - accuracy: 0.3368INFO:tensorflow:Assets written to: cifar10_model\\assets\n",
      "1407/1407 [==============================] - 55s 39ms/step - loss: 1.8160 - accuracy: 0.3368 - val_loss: 1.8083 - val_accuracy: 0.3340\n",
      "Epoch 6/100\n",
      "1405/1407 [============================>.] - ETA: 0s - loss: 1.7742 - accuracy: 0.3542INFO:tensorflow:Assets written to: cifar10_model\\assets\n",
      "1407/1407 [==============================] - 57s 40ms/step - loss: 1.7744 - accuracy: 0.3541 - val_loss: 1.7628 - val_accuracy: 0.3588\n",
      "Epoch 7/100\n",
      "1407/1407 [==============================] - ETA: 0s - loss: 1.7314 - accuracy: 0.3714INFO:tensorflow:Assets written to: cifar10_model\\assets\n",
      "1407/1407 [==============================] - 55s 39ms/step - loss: 1.7314 - accuracy: 0.3714 - val_loss: 1.7410 - val_accuracy: 0.3654\n",
      "Epoch 8/100\n",
      "1405/1407 [============================>.] - ETA: 0s - loss: 1.6914 - accuracy: 0.3853INFO:tensorflow:Assets written to: cifar10_model\\assets\n",
      "1407/1407 [==============================] - 55s 39ms/step - loss: 1.6914 - accuracy: 0.3853 - val_loss: 1.6785 - val_accuracy: 0.3882\n",
      "Epoch 9/100\n",
      "1407/1407 [==============================] - ETA: 0s - loss: 1.6631 - accuracy: 0.3986INFO:tensorflow:Assets written to: cifar10_model\\assets\n",
      "1407/1407 [==============================] - 56s 40ms/step - loss: 1.6631 - accuracy: 0.3986 - val_loss: 1.6459 - val_accuracy: 0.4000\n",
      "Epoch 10/100\n",
      "1407/1407 [==============================] - 41s 29ms/step - loss: 1.6357 - accuracy: 0.4067 - val_loss: 1.6647 - val_accuracy: 0.3968\n",
      "Epoch 11/100\n",
      "1407/1407 [==============================] - 43s 30ms/step - loss: 1.6137 - accuracy: 0.4150 - val_loss: 1.6797 - val_accuracy: 0.3868\n",
      "Epoch 12/100\n",
      "1407/1407 [==============================] - 43s 30ms/step - loss: 1.5906 - accuracy: 0.4254 - val_loss: 1.6588 - val_accuracy: 0.3920\n",
      "Epoch 13/100\n",
      "1407/1407 [==============================] - ETA: 0s - loss: 1.5719 - accuracy: 0.4309INFO:tensorflow:Assets written to: cifar10_model\\assets\n",
      "1407/1407 [==============================] - 58s 41ms/step - loss: 1.5719 - accuracy: 0.4309 - val_loss: 1.6179 - val_accuracy: 0.4178\n",
      "Epoch 14/100\n",
      "1406/1407 [============================>.] - ETA: 0s - loss: 1.5585 - accuracy: 0.4353INFO:tensorflow:Assets written to: cifar10_model\\assets\n",
      "1407/1407 [==============================] - 58s 41ms/step - loss: 1.5585 - accuracy: 0.4353 - val_loss: 1.6090 - val_accuracy: 0.4176\n",
      "Epoch 15/100\n",
      "1407/1407 [==============================] - ETA: 0s - loss: 1.5404 - accuracy: 0.4414INFO:tensorflow:Assets written to: cifar10_model\\assets\n",
      "1407/1407 [==============================] - 56s 40ms/step - loss: 1.5404 - accuracy: 0.4414 - val_loss: 1.5847 - val_accuracy: 0.4222\n",
      "Epoch 16/100\n",
      "1407/1407 [==============================] - 41s 29ms/step - loss: 1.5263 - accuracy: 0.4506 - val_loss: 1.5999 - val_accuracy: 0.4196\n",
      "Epoch 17/100\n",
      "1407/1407 [==============================] - 43s 31ms/step - loss: 1.5141 - accuracy: 0.4535 - val_loss: 1.5939 - val_accuracy: 0.4222\n",
      "Epoch 18/100\n",
      "1406/1407 [============================>.] - ETA: 0s - loss: 1.5010 - accuracy: 0.4574INFO:tensorflow:Assets written to: cifar10_model\\assets\n",
      "1407/1407 [==============================] - 60s 43ms/step - loss: 1.5009 - accuracy: 0.4574 - val_loss: 1.5764 - val_accuracy: 0.4362\n",
      "Epoch 19/100\n",
      "1406/1407 [============================>.] - ETA: 0s - loss: 1.4894 - accuracy: 0.4615INFO:tensorflow:Assets written to: cifar10_model\\assets\n",
      "1407/1407 [==============================] - 57s 41ms/step - loss: 1.4894 - accuracy: 0.4615 - val_loss: 1.5600 - val_accuracy: 0.4352\n",
      "Epoch 20/100\n",
      "1407/1407 [==============================] - 41s 29ms/step - loss: 1.4809 - accuracy: 0.4655 - val_loss: 1.5905 - val_accuracy: 0.4336\n",
      "Epoch 21/100\n",
      "1405/1407 [============================>.] - ETA: 0s - loss: 1.4709 - accuracy: 0.4673INFO:tensorflow:Assets written to: cifar10_model\\assets\n",
      "1407/1407 [==============================] - 59s 42ms/step - loss: 1.4707 - accuracy: 0.4673 - val_loss: 1.5456 - val_accuracy: 0.4460\n",
      "Epoch 22/100\n",
      "1407/1407 [==============================] - 43s 31ms/step - loss: 1.4570 - accuracy: 0.4721 - val_loss: 1.5815 - val_accuracy: 0.4338\n",
      "Epoch 23/100\n",
      "1406/1407 [============================>.] - ETA: 0s - loss: 1.4470 - accuracy: 0.4790INFO:tensorflow:Assets written to: cifar10_model\\assets\n",
      "1407/1407 [==============================] - 60s 43ms/step - loss: 1.4471 - accuracy: 0.4790 - val_loss: 1.5379 - val_accuracy: 0.4432\n",
      "Epoch 24/100\n",
      "1407/1407 [==============================] - 44s 31ms/step - loss: 1.4363 - accuracy: 0.4809 - val_loss: 1.5720 - val_accuracy: 0.4394\n",
      "Epoch 25/100\n",
      "1407/1407 [==============================] - ETA: 0s - loss: 1.4289 - accuracy: 0.4848INFO:tensorflow:Assets written to: cifar10_model\\assets\n",
      "1407/1407 [==============================] - 58s 42ms/step - loss: 1.4289 - accuracy: 0.4848 - val_loss: 1.5113 - val_accuracy: 0.4530\n",
      "Epoch 26/100\n",
      "1407/1407 [==============================] - 43s 31ms/step - loss: 1.4178 - accuracy: 0.4869 - val_loss: 1.5596 - val_accuracy: 0.4364\n",
      "Epoch 27/100\n",
      "1407/1407 [==============================] - 43s 31ms/step - loss: 1.4093 - accuracy: 0.4896 - val_loss: 1.5370 - val_accuracy: 0.4452\n",
      "Epoch 28/100\n",
      "1407/1407 [==============================] - 41s 29ms/step - loss: 1.4004 - accuracy: 0.4933 - val_loss: 1.5323 - val_accuracy: 0.4558\n",
      "Epoch 29/100\n",
      "1406/1407 [============================>.] - ETA: 0s - loss: 1.3942 - accuracy: 0.4970INFO:tensorflow:Assets written to: cifar10_model\\assets\n",
      "1407/1407 [==============================] - 58s 41ms/step - loss: 1.3943 - accuracy: 0.4970 - val_loss: 1.5098 - val_accuracy: 0.4588\n",
      "Epoch 30/100\n",
      "1407/1407 [==============================] - 44s 32ms/step - loss: 1.3807 - accuracy: 0.5012 - val_loss: 1.6156 - val_accuracy: 0.4368\n",
      "Epoch 31/100\n",
      "1407/1407 [==============================] - 43s 31ms/step - loss: 1.3746 - accuracy: 0.5020 - val_loss: 1.5434 - val_accuracy: 0.4502\n",
      "Epoch 32/100\n",
      "1407/1407 [==============================] - 41s 29ms/step - loss: 1.3670 - accuracy: 0.5061 - val_loss: 1.5207 - val_accuracy: 0.4644\n",
      "Epoch 33/100\n",
      "1407/1407 [==============================] - 41s 29ms/step - loss: 1.3605 - accuracy: 0.5100 - val_loss: 1.5669 - val_accuracy: 0.4498\n",
      "Epoch 34/100\n",
      "1407/1407 [==============================] - 41s 29ms/step - loss: 1.3551 - accuracy: 0.5107 - val_loss: 1.5662 - val_accuracy: 0.4522\n",
      "Epoch 35/100\n",
      "1407/1407 [==============================] - 40s 29ms/step - loss: 1.3458 - accuracy: 0.5145 - val_loss: 1.5335 - val_accuracy: 0.4658\n",
      "Epoch 36/100\n",
      "1407/1407 [==============================] - 40s 29ms/step - loss: 1.3390 - accuracy: 0.5154 - val_loss: 1.5280 - val_accuracy: 0.4610\n",
      "Epoch 37/100\n",
      "1407/1407 [==============================] - 43s 31ms/step - loss: 1.3291 - accuracy: 0.5199 - val_loss: 1.5111 - val_accuracy: 0.4650\n",
      "Epoch 38/100\n",
      "1407/1407 [==============================] - 41s 29ms/step - loss: 1.3237 - accuracy: 0.5224 - val_loss: 1.5207 - val_accuracy: 0.4612\n",
      "Epoch 39/100\n",
      "1407/1407 [==============================] - 42s 30ms/step - loss: 1.3131 - accuracy: 0.5266 - val_loss: 1.5377 - val_accuracy: 0.4596\n",
      "Epoch 40/100\n",
      "1407/1407 [==============================] - 41s 29ms/step - loss: 1.3108 - accuracy: 0.5258 - val_loss: 1.5563 - val_accuracy: 0.4482\n",
      "Epoch 41/100\n",
      "1407/1407 [==============================] - 41s 29ms/step - loss: 1.2996 - accuracy: 0.5308 - val_loss: 1.5384 - val_accuracy: 0.4484\n",
      "Epoch 42/100\n",
      "1407/1407 [==============================] - 42s 30ms/step - loss: 1.2940 - accuracy: 0.5304 - val_loss: 1.5324 - val_accuracy: 0.4568\n",
      "Epoch 43/100\n",
      "1407/1407 [==============================] - 41s 29ms/step - loss: 1.2880 - accuracy: 0.5360 - val_loss: 1.5295 - val_accuracy: 0.4632\n",
      "Epoch 44/100\n",
      "1407/1407 [==============================] - 41s 29ms/step - loss: 1.2822 - accuracy: 0.5362 - val_loss: 1.5536 - val_accuracy: 0.4526\n",
      "Epoch 45/100\n",
      "1407/1407 [==============================] - 41s 29ms/step - loss: 1.2741 - accuracy: 0.5404 - val_loss: 1.5255 - val_accuracy: 0.4620\n",
      "Epoch 46/100\n",
      "1407/1407 [==============================] - 40s 29ms/step - loss: 1.2661 - accuracy: 0.5442 - val_loss: 1.5317 - val_accuracy: 0.4652\n",
      "Epoch 47/100\n",
      "1407/1407 [==============================] - 41s 29ms/step - loss: 1.2612 - accuracy: 0.5437 - val_loss: 1.5471 - val_accuracy: 0.4592\n",
      "Epoch 48/100\n",
      "1407/1407 [==============================] - 44s 31ms/step - loss: 1.2556 - accuracy: 0.5470 - val_loss: 1.5712 - val_accuracy: 0.4608\n",
      "Epoch 49/100\n",
      "1407/1407 [==============================] - 40s 29ms/step - loss: 1.2494 - accuracy: 0.5506 - val_loss: 1.5459 - val_accuracy: 0.4626\n"
     ]
    },
    {
     "data": {
      "text/plain": [
       "<keras.callbacks.History at 0x2217b1bf5b0>"
      ]
     },
     "execution_count": 13,
     "metadata": {},
     "output_type": "execute_result"
    }
   ],
   "source": [
    "model.fit(X_train, y_train, \n",
    "          epochs=100,\n",
    "          validation_data=(X_valid, y_valid),\n",
    "          callbacks=callbacks)"
   ]
  },
  {
   "cell_type": "code",
   "execution_count": 14,
   "metadata": {},
   "outputs": [
    {
     "name": "stdout",
     "output_type": "stream",
     "text": [
      "157/157 [==============================] - 3s 18ms/step - loss: 1.5098 - accuracy: 0.4588\n"
     ]
    },
    {
     "data": {
      "text/plain": [
       "[1.5098285675048828, 0.45879998803138733]"
      ]
     },
     "execution_count": 14,
     "metadata": {},
     "output_type": "execute_result"
    }
   ],
   "source": [
    "model.evaluate(X_valid, y_valid)"
   ]
  },
  {
   "cell_type": "markdown",
   "metadata": {},
   "source": [
    "* Add Batch Normalization"
   ]
  },
  {
   "cell_type": "code",
   "execution_count": null,
   "metadata": {},
   "outputs": [],
   "source": []
  }
 ],
 "metadata": {
  "kernelspec": {
   "display_name": "ds_ml_dl",
   "language": "python",
   "name": "python3"
  },
  "language_info": {
   "codemirror_mode": {
    "name": "ipython",
    "version": 3
   },
   "file_extension": ".py",
   "mimetype": "text/x-python",
   "name": "python",
   "nbconvert_exporter": "python",
   "pygments_lexer": "ipython3",
   "version": "3.10.13"
  }
 },
 "nbformat": 4,
 "nbformat_minor": 2
}
