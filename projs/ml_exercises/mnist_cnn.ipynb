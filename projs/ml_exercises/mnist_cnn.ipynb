{
 "cells": [
  {
   "cell_type": "markdown",
   "metadata": {},
   "source": [
    "# CNN for MNIST:"
   ]
  },
  {
   "cell_type": "code",
   "execution_count": 1,
   "metadata": {},
   "outputs": [],
   "source": [
    "import tensorflow as tf\n",
    "import numpy as np"
   ]
  },
  {
   "cell_type": "code",
   "execution_count": 2,
   "metadata": {},
   "outputs": [],
   "source": [
    "mnist = tf.keras.datasets.mnist.load_data()\n",
    "(X_train_full, y_train_full), (X_test, y_test) = mnist\n",
    "X_train_full = X_train_full / 255.\n",
    "X_test = X_test / 255.\n",
    "X_train, X_valid = X_train_full[:-5000], X_train_full[-5000:]\n",
    "y_train, y_valid = y_train_full[:-5000], y_train_full[-5000:]\n",
    "\n",
    "X_train = X_train[..., np.newaxis]\n",
    "X_valid = X_valid[..., np.newaxis]\n",
    "X_test = X_test[..., np.newaxis]\n"
   ]
  },
  {
   "cell_type": "code",
   "execution_count": 3,
   "metadata": {},
   "outputs": [
    {
     "name": "stdout",
     "output_type": "stream",
     "text": [
      "Epoch 1/10\n",
      "1719/1719 [==============================] - 96s 55ms/step - loss: 0.2093 - accuracy: 0.9372 - val_loss: 0.0397 - val_accuracy: 0.9888\n",
      "Epoch 2/10\n",
      "1719/1719 [==============================] - 96s 56ms/step - loss: 0.0884 - accuracy: 0.9731 - val_loss: 0.0434 - val_accuracy: 0.9862\n",
      "Epoch 3/10\n",
      "1719/1719 [==============================] - 111s 64ms/step - loss: 0.0617 - accuracy: 0.9812 - val_loss: 0.0383 - val_accuracy: 0.9908\n",
      "Epoch 4/10\n",
      "1719/1719 [==============================] - 108s 63ms/step - loss: 0.0516 - accuracy: 0.9841 - val_loss: 0.0335 - val_accuracy: 0.9922\n",
      "Epoch 5/10\n",
      "1719/1719 [==============================] - 109s 64ms/step - loss: 0.0427 - accuracy: 0.9867 - val_loss: 0.0357 - val_accuracy: 0.9906\n",
      "Epoch 6/10\n",
      "1719/1719 [==============================] - 111s 65ms/step - loss: 0.0387 - accuracy: 0.9879 - val_loss: 0.0423 - val_accuracy: 0.9914\n",
      "Epoch 7/10\n",
      "1719/1719 [==============================] - 111s 65ms/step - loss: 0.0302 - accuracy: 0.9904 - val_loss: 0.0366 - val_accuracy: 0.9922\n",
      "Epoch 8/10\n",
      "1719/1719 [==============================] - 112s 65ms/step - loss: 0.0288 - accuracy: 0.9910 - val_loss: 0.0320 - val_accuracy: 0.9938\n",
      "Epoch 9/10\n",
      "1719/1719 [==============================] - 112s 65ms/step - loss: 0.0270 - accuracy: 0.9911 - val_loss: 0.0488 - val_accuracy: 0.9896\n",
      "Epoch 10/10\n",
      "1719/1719 [==============================] - 110s 64ms/step - loss: 0.0220 - accuracy: 0.9927 - val_loss: 0.0306 - val_accuracy: 0.9934\n",
      "313/313 [==============================] - 4s 14ms/step - loss: 0.0267 - accuracy: 0.9927\n"
     ]
    },
    {
     "data": {
      "text/plain": [
       "[0.026679089292883873, 0.9926999807357788]"
      ]
     },
     "execution_count": 3,
     "metadata": {},
     "output_type": "execute_result"
    }
   ],
   "source": [
    "tf.random.set_seed(42)\n",
    "np.random.seed(42)\n",
    "\n",
    "model = tf.keras.Sequential([\n",
    "    tf.keras.layers.Conv2D(32, kernel_size=3, padding=\"same\",\n",
    "                           activation=\"relu\", kernel_initializer=\"he_normal\"),\n",
    "    tf.keras.layers.Conv2D(64, kernel_size=3, padding=\"same\",\n",
    "                           activation=\"relu\", kernel_initializer=\"he_normal\"),\n",
    "    tf.keras.layers.MaxPool2D(),\n",
    "    tf.keras.layers.Flatten(),\n",
    "    tf.keras.layers.Dropout(0.25),\n",
    "    tf.keras.layers.Dense(128, activation=\"relu\",\n",
    "                          kernel_initializer=\"he_normal\"),\n",
    "    tf.keras.layers.Dropout(0.5),\n",
    "    tf.keras.layers.Dense(10, activation=\"softmax\")\n",
    "])\n",
    "model.compile(loss=\"sparse_categorical_crossentropy\", optimizer=\"nadam\",\n",
    "              metrics=[\"accuracy\"])\n",
    "\n",
    "model.fit(X_train, y_train, epochs=10, validation_data=(X_valid, y_valid))\n",
    "model.evaluate(X_test, y_test)"
   ]
  },
  {
   "cell_type": "code",
   "execution_count": null,
   "metadata": {},
   "outputs": [],
   "source": []
  }
 ],
 "metadata": {
  "kernelspec": {
   "display_name": "ds_ml_dl",
   "language": "python",
   "name": "python3"
  },
  "language_info": {
   "codemirror_mode": {
    "name": "ipython",
    "version": 3
   },
   "file_extension": ".py",
   "mimetype": "text/x-python",
   "name": "python",
   "nbconvert_exporter": "python",
   "pygments_lexer": "ipython3",
   "version": "3.10.13"
  }
 },
 "nbformat": 4,
 "nbformat_minor": 2
}
